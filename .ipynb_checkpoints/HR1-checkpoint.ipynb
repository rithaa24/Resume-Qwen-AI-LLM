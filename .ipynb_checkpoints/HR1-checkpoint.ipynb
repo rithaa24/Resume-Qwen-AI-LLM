{
 "cells": [
  {
   "cell_type": "code",
   "execution_count": 2,
   "id": "b1d6d498-f0b1-4a6d-84d0-a6368d4c5727",
   "metadata": {},
   "outputs": [
    {
     "name": "stdout",
     "output_type": "stream",
     "text": [
      "200\n",
      "{'status': 'success', 'message': 'Resume parsed successfully', 'parsed_json': {'primary_information': {'candidate_name': {'first_name': 'Sanjay', 'last_name': 'Kumar', 'raw_name': 'Sanjay Kumar'}, 'contact_information': {'phone_numbers': [{'country_code': 'IN', 'country_name': 'India', 'mobile_dial_code': '+91', 'mobile_number': '9868949825'}], 'emails': ['sanjay.kr114@gmail.com'], 'addresses': [{'raw': {'address_line': 'H. No.- D- 2 M.R. Dayalpur P.O. Gokul Pur, Delhi Air Sqn. (Flg.)', 'parsed_region': 'Delhi', 'postal_code': '110094'}, 'enriched': {'state': 'Delhi', 'country': 'India', 'country_code': 'IN', 'latitude': 28.663866666666667, 'longitude': 77.22776666666665}}], 'languages_known': [{'parsed_value': 'Hindi'}, {'parsed_value': 'English'}]}, 'demographics': {'date_of_birth': 'July 14, 1986', 'marital_status': 'SINGLE', 'nationalities': [{'country_code': 'IN', 'country_name': 'India', 'parsed_value': 'Indian'}], 'gender': 'MALE'}, 'professional_information': {'highest_qualification': 'Master of Business Administration', 'current_designation': 'HR- ADMIN EXECUTIVE', 'current_employer': 'Sirius Global Limited', 'total_duration_of_experience': {'years': 11, 'months': 8}, 'professional_title': ['HR Executive'], 'professional_summary': \" 5 years of experience including 3+ years' professional experience as an HR Executive in\\n handling human resource projects.\\n\\n PERSONAL SUMMARY\"}, 'profile_description': ' I am a competent and organized individual who is able to work as part of a team or\\n individual and manage several priorities. I have a positive attitude, strong work\\n ethic, and a keen desire to learn and grow within a firm. I always treat people with\\n respect and according to their individual needs. As a dedicated professional I fully\\n understand the importance of the HR department to any organization, and therefore\\n aim to make any office I work in as effective and efficient as possible. I would like to\\n work for a friendly and exciting company that is looking for a HR Executive, who\\n can reflect his values.'}, 'education': [{'qualification': {'parsed_value': 'MBA', 'full_form': 'Master of Business Administration', 'qualification_level': 'Masters'}, 'course': {'parsed_value': 'Human Resource', 'field_of_study_category': 'Business / Management'}, 'board_of_study': {'parsed_value': 'S.M. University'}, 'institute': {'institute_name': 'S.M. University', 'location': {'raw': {'parsed_region': 'Delhi'}, 'enriched': {'state': 'Delhi', 'country': 'India', 'latitude': 28.635758540925263, 'longitude': 77.14904483985765}}}, 'duration_of_study': {'from': '2010', 'from_milliseconds': 1262284200000, 'to': '2012', 'to_milliseconds': 1325356200000, 'years': 2, 'parsed_value': '2010 - 2012', 'from_format': '%Y', 'from_iso': '2010-01-01T00:00:00', 'to_format': '%Y', 'to_iso': '2012-01-01T00:00:00'}}, {'qualification': {'parsed_value': 'BBA', 'full_form': 'Bachelor of Business Administration', 'qualification_level': 'Bachelors'}, 'board_of_study': {'parsed_value': 'G.G.S.I.P. University'}, 'institute': {'institute_name': 'G.G.S.I.P. University', 'location': {'raw': {'parsed_region': 'Delhi'}, 'enriched': {'state': 'Delhi', 'country': 'India', 'latitude': 28.635758540925263, 'longitude': 77.14904483985765}}}, 'duration_of_study': {'from': '2006', 'from_milliseconds': 1136053800000, 'to': '2009', 'to_milliseconds': 1230748200000, 'years': 3, 'parsed_value': '2006 - 2009', 'from_format': '%Y', 'from_iso': '2006-01-01T00:00:00', 'to_format': '%Y', 'to_iso': '2009-01-01T00:00:00'}}, {'qualification': {'parsed_value': 'XII', 'full_form': 'Class 12 / Higher Secondary Certificate (HSC)', 'qualification_level': 'Higher Secondary Education'}, 'course': {'parsed_value': 'Science Stream', 'field_of_study_category': 'Education / Science'}, 'board_of_study': {'parsed_value': 'CBSE'}, 'institute': {'location': {'raw': {'parsed_region': 'Delhi'}, 'enriched': {'state': 'Delhi', 'country': 'India', 'latitude': 28.635758540925263, 'longitude': 77.14904483985765}}}, 'duration_of_study': {'from': '2006', 'from_milliseconds': 1136053800000, 'to': '2006', 'to_milliseconds': 1167503400000, 'years': 1, 'parsed_value': '2006', 'from_format': '%Y', 'from_iso': '2006-01-01T00:00:00', 'to_format': '%Y', 'to_iso': '2006-12-31T00:00:00'}, 'score': {'score_value': '52', 'score_unit': 'PERCENT'}}, {'qualification': {'parsed_value': 'X', 'full_form': 'Class 10 / Secondary School Certificate (SSC)', 'qualification_level': 'Secondary Education'}, 'course': {'parsed_value': 'General'}, 'board_of_study': {'parsed_value': 'CBSE'}, 'institute': {'location': {'raw': {'parsed_region': 'Delhi'}, 'enriched': {'state': 'Delhi', 'country': 'India', 'latitude': 28.635758540925263, 'longitude': 77.14904483985765}}}, 'duration_of_study': {'from': '2003', 'from_milliseconds': 1041359400000, 'to': '2003', 'to_milliseconds': 1072809000000, 'years': 1, 'parsed_value': '2003', 'from_format': '%Y', 'from_iso': '2003-01-01T00:00:00', 'to_format': '%Y', 'to_iso': '2003-12-31T00:00:00'}, 'score': {'score_value': '65', 'score_unit': 'PERCENT'}}], 'work_experiences': [{'designation': 'HR- ADMIN EXECUTIVE', 'organization': {'organization_name': 'Sirius Global Limited', 'location': {'raw': {'parsed_region': 'Nehru Place, New Delhi'}, 'enriched': {'state': 'Delhi', 'country': 'India', 'latitude': 28.5014, 'longitude': 77.2274}}}, 'duration_of_work': {'from': '06-2016', 'from_milliseconds': 1464719400000, 'to': 'Ongoing', 'to_milliseconds': 1755841844789, 'years': 9, 'months': 2, 'parsed_value': 'June 2016 - Present', 'is_ongoing': True, 'from_format': '%m-%Y', 'from_iso': '2016-06-01T00:00:00'}, 'work_description': ' Responsible for the statutory compliances, recruitment, induction, exit formalities of\\n the employees, providing full administrative support to the HR Managers and Officers.\\n\\n Job Responsibilities:\\n Responsible for Employee Recruitment Process.\\n Handling Documentation process of the employees.\\n Handling Joining formalities.\\n Carrying out reference checks on prospective employees.\\n Acting as the first point of contact for anyone enquiring about avacancy.\\n Maintain the records of employees\\n Track the attendance of the employees\\n Preparing Salary, Bonus, leave record, arrears and overtime of employees.\\n ESIC & EPF registration for new employees, Updating KYC for employees.\\n Preparing PF & ESIC Challan on excel as well as online.\\n Preparing full & final settlement of employees.\\n Letter drafting & Letter reply for interaction with the clients\\n Helping in tender submission (online & offline) and maintaining tender related\\n documents.'}, {'designation': 'HR- ADMIN EXECUTIVE/ OFFICE COORDINATOR', 'organization': {'organization_name': 'Lion Manpower Solutions Private Limited', 'location': {'raw': {'parsed_region': 'Vasant Kunj, New Delhi'}, 'enriched': {'nearby_city': 'New Delhi', 'state': 'Delhi', 'country': 'India', 'latitude': 28.6012581300813, 'longitude': 77.14510365853658}}}, 'duration_of_work': {'from': '04-2015', 'from_milliseconds': 1427826600000, 'to': '2015', 'to_milliseconds': 1451500200000, 'months': 9, 'parsed_value': 'April 15 - Sep. 15', 'from_format': '%m-%Y', 'from_iso': '2015-04-01T00:00:00', 'to_format': '%Y', 'to_iso': '2015-12-31T00:00:00'}, 'work_description': \" Letter drafting & Letter reply.\\n Online ticket booking (for staff's travelling) .\\n ESIC & EPF registration for new employees.\\n Updating EPF (KYC) for employees.\\n Preparing quotations on excel, Preparing presentation\\n Helping in tender submission (online & offline) and maintaining tender related\\n documents.\"}, {'designation': 'LOWER DIVISIONAL CLERK', 'organization': {'organization_name': 'Safdarjung Airport', 'location': {'raw': {'parsed_region': 'New Delhi'}, 'enriched': {'nearby_city': 'New Delhi', 'state': 'Delhi', 'country': 'India', 'latitude': 28.6012581300813, 'longitude': 77.14510365853658}}}, 'duration_of_work': {'from': '06-2014', 'from_milliseconds': 1401561000000, 'to': '03-2014', 'to_milliseconds': 1393612200000, 'months': -3, 'parsed_value': 'June 14 - March', 'from_format': '%m-%Y', 'from_iso': '2014-06-01T00:00:00', 'to_format': '%m-%Y', 'to_iso': '2014-03-01T00:00:00'}, 'work_description': ' Letter drafting & Letter reply.\\n Filling & maintaining database of Admin Dept.\\n Salary preparation on NIC software for employees.\\n Timely submission of telephone and electricity bills.\\n Budgeting for students camps.\\n Applying budget for office expenses and maintaining the same.\\n Maintaining In and Out letters record\\n Maintaining office stationary, postage stamps & office expense\\n Preparation medical bills of employees for reimbursement.'}, {'designation': 'STORE IN- CHARGE', 'organization': {'organization_name': 'Prakash Switchgear', 'location': {'raw': {'parsed_region': 'Ghonda, Delhi'}, 'enriched': {'state': 'Delhi', 'country': 'India', 'latitude': 28.635758540925263, 'longitude': 77.14904483985765}}}, 'duration_of_work': {'from': '07-2013', 'from_milliseconds': 1372617000000, 'to': '2013', 'to_milliseconds': 1388428200000, 'months': 6, 'parsed_value': 'July 13 - Dec. 13', 'from_format': '%m-%Y', 'from_iso': '2013-07-01T00:00:00', 'to_format': '%Y', 'to_iso': '2013-12-31T00:00:00'}}, {'designation': 'FINANCIAL ADVISOR', 'organization': {'organization_name': 'Met Life India Insurance Co. Limited', 'location': {'raw': {'parsed_region': 'Noida Sector, U.P'}, 'enriched': {'country': 'India', 'latitude': 28.6302, 'longitude': 77.3918, 'is_ambiguous': True}}}, 'duration_of_work': {'from': '04-2012', 'from_milliseconds': 1333218600000, 'to': '06-2013', 'to_milliseconds': 1370025000000, 'years': 1, 'months': 2, 'parsed_value': 'April 12 - June 13', 'from_format': '%m-%Y', 'from_iso': '2012-04-01T00:00:00', 'to_format': '%m-%Y', 'to_iso': '2013-06-01T00:00:00'}}, {'designation': 'FINANCIAL ADVISOR', 'organization': {'organization_name': 'Birla Sun Life Insurance Co. Limited', 'location': {'raw': {'parsed_region': 'Hargovind Enclave, Delhi'}, 'enriched': {'state': 'Delhi', 'country': 'India', 'latitude': 28.635758540925263, 'longitude': 77.14904483985765}}}, 'duration_of_work': {'from': '06-2009', 'from_milliseconds': 1243794600000, 'to': '07-2009', 'to_milliseconds': 1246386600000, 'months': 1, 'parsed_value': 'June 09 - July 09', 'from_format': '%m-%Y', 'from_iso': '2009-06-01T00:00:00', 'to_format': '%m-%Y', 'to_iso': '2009-07-01T00:00:00'}}], 'skills': {'hard_skills': [{'parsed_value': 'Client Relations Management', 'parsed_from': ['skills section']}, {'parsed_value': 'Employee Relations', 'parsed_from': ['skills section']}, {'parsed_value': 'Record Keeping', 'parsed_from': ['skills section']}, {'parsed_value': 'Contract document generation', 'parsed_from': ['skills section']}, {'parsed_value': 'Business Administration', 'parsed_from': ['skills section']}, {'parsed_value': 'Answering queries', 'parsed_from': ['skills section']}, {'parsed_value': 'MS- Office', 'parsed_from': ['skills section']}, {'parsed_value': 'Photoshop', 'parsed_from': ['skills section']}, {'parsed_value': 'Internet Savvy', 'parsed_from': ['skills section']}], 'soft_skills': [{'parsed_value': 'Creative Problem Solver', 'parsed_from': ['skills section']}, {'parsed_value': 'Note taking', 'parsed_from': ['skills section']}, {'parsed_value': 'Decision making', 'parsed_from': ['skills section']}, {'parsed_value': 'Fast Learning', 'parsed_from': ['skills section']}, {'parsed_value': 'Hard Working', 'parsed_from': ['skills section']}, {'parsed_value': 'Leadership', 'parsed_from': ['skills section']}, {'parsed_value': 'Attention to detail', 'parsed_from': ['skills section']}, {'parsed_value': 'Co- ordination', 'parsed_from': ['skills section']}, {'parsed_value': 'Self- Motivated', 'parsed_from': ['skills section']}]}, 'interests': {'general': [{'parsed_value': 'Reading'}, {'parsed_value': 'Listening Music'}, {'parsed_value': 'Poetry'}]}, 'achievements': ['1st Div'], 'hr-xml': '<?xml version=\"1.0\" encoding=\"UTF-8\"?>\\n<resume><primary_information><candidate_name><prefix /><first_name>Sanjay</first_name><middle_name /><last_name>Kumar</last_name><suffix /><raw_name>Sanjay Kumar</raw_name></candidate_name><contact_information><phone_number><mobile_dial_code>+91</mobile_dial_code><phone_number /></phone_number><email>sanjay.kr114@gmail.com</email><address><address_line /><locality /><region /><country /><postal_code /></address><language_known><parsed_value>Hindi</parsed_value><predicted_label /><proficiency /></language_known><language_known><parsed_value>English</parsed_value><predicted_label /><proficiency /></language_known></contact_information><demographics><date_of_birth>July 14, 1986</date_of_birth><age_years>0</age_years><age_months>0</age_months><age_days>0</age_days><marital_status>SINGLE</marital_status><nationality>{\\'country_code\\': \\'IN\\', \\'country_name\\': \\'India\\', \\'parsed_value\\': \\'Indian\\'}</nationality><gender>MALE</gender><disability /></demographics></primary_information><professional_information><current_designation>HR- ADMIN EXECUTIVE</current_designation><current_employer>Sirius Global Limited</current_employer><experience_years>11</experience_years><experience_months>8</experience_months><professional_summary> 5 years of experience including 3+ years\\' professional experience as an HR Executive in\\n handling human resource projects.\\n\\n PERSONAL SUMMARY</professional_summary></professional_information><links><linkedin /></links><profile_description> I am a competent and organized individual who is able to work as part of a team or\\n individual and manage several priorities. I have a positive attitude, strong work\\n ethic, and a keen desire to learn and grow within a firm. I always treat people with\\n respect and according to their individual needs. As a dedicated professional I fully\\n understand the importance of the HR department to any organization, and therefore\\n aim to make any office I work in as effective and efficient as possible. I would like to\\n work for a friendly and exciting company that is looking for a HR Executive, who\\n can reflect his values.</profile_description><job_preferences><willingness_to_relocate /><availability_for_interview /></job_preferences><education><education_item><qualification_value>MBA</qualification_value><qualification_predicted_label /><qualification_level>Masters</qualification_level><course_value>Human Resource</course_value><course_predicted_label /><field_of_study_category>Business / Management</field_of_study_category><board_of_study_value>S.M. University</board_of_study_value><board_of_study_predicted_label /><institute_name>S.M. University</institute_name><institute_locality /><institute_region /><institute_country /><institute_postal_code /><study_duration_value>2010 - 2012</study_duration_value><study_from_date>2010</study_from_date><study_to_date>2012</study_to_date><study_years>0</study_years><study_months>0</study_months><study_days>0</study_days><score_value>0</score_value><score_unit /><score_percentage>0.0</score_percentage></education_item><education_item><qualification_value>BBA</qualification_value><qualification_predicted_label /><qualification_level>Bachelors</qualification_level><course_value /><course_predicted_label /><field_of_study_category /><board_of_study_value>G.G.S.I.P. University</board_of_study_value><board_of_study_predicted_label /><institute_name>G.G.S.I.P. University</institute_name><institute_locality /><institute_region /><institute_country /><institute_postal_code /><study_duration_value>2006 - 2009</study_duration_value><study_from_date>2006</study_from_date><study_to_date>2009</study_to_date><study_years>0</study_years><study_months>0</study_months><study_days>0</study_days><score_value>0</score_value><score_unit /><score_percentage>0.0</score_percentage></education_item><education_item><qualification_value>XII</qualification_value><qualification_predicted_label /><qualification_level>Higher Secondary Education</qualification_level><course_value>Science Stream</course_value><course_predicted_label /><field_of_study_category>Education / Science</field_of_study_category><board_of_study_value>CBSE</board_of_study_value><board_of_study_predicted_label /><institute_name /><institute_locality /><institute_region /><institute_country /><institute_postal_code /><study_duration_value>2006</study_duration_value><study_from_date>2006</study_from_date><study_to_date>2006</study_to_date><study_years>0</study_years><study_months>0</study_months><study_days>0</study_days><score_value>52</score_value><score_unit>PERCENT</score_unit><score_percentage>0.0</score_percentage></education_item><education_item><qualification_value>X</qualification_value><qualification_predicted_label /><qualification_level>Secondary Education</qualification_level><course_value>General</course_value><course_predicted_label /><field_of_study_category /><board_of_study_value>CBSE</board_of_study_value><board_of_study_predicted_label /><institute_name /><institute_locality /><institute_region /><institute_country /><institute_postal_code /><study_duration_value>2003</study_duration_value><study_from_date>2003</study_from_date><study_to_date>2003</study_to_date><study_years>0</study_years><study_months>0</study_months><study_days>0</study_days><score_value>65</score_value><score_unit>PERCENT</score_unit><score_percentage>0.0</score_percentage></education_item></education><work_experiences><work_experience><designation>HR- ADMIN EXECUTIVE</designation><organization_name>Sirius Global Limited</organization_name><organization_locality /><organization_region /><organization_country /><organization_postal_code /><work_from_date>06-2016</work_from_date><work_to_date>Ongoing</work_to_date><work_duration_value>June 2016 - Present</work_duration_value><work_years>0</work_years><work_months>0</work_months><work_days>0</work_days><work_description> Responsible for the statutory compliances, recruitment, induction, exit formalities of\\n the employees, providing full administrative support to the HR Managers and Officers.\\n\\n Job Responsibilities:\\n Responsible for Employee Recruitment Process.\\n Handling Documentation process of the employees.\\n Handling Joining formalities.\\n Carrying out reference checks on prospective employees.\\n Acting as the first point of contact for anyone enquiring about avacancy.\\n Maintain the records of employees\\n Track the attendance of the employees\\n Preparing Salary, Bonus, leave record, arrears and overtime of employees.\\n ESIC &amp; EPF registration for new employees, Updating KYC for employees.\\n Preparing PF &amp; ESIC Challan on excel as well as online.\\n Preparing full &amp; final settlement of employees.\\n Letter drafting &amp; Letter reply for interaction with the clients\\n Helping in tender submission (online &amp; offline) and maintaining tender related\\n documents.</work_description></work_experience><work_experience><designation>HR- ADMIN EXECUTIVE/ OFFICE COORDINATOR</designation><organization_name>Lion Manpower Solutions Private Limited</organization_name><organization_locality /><organization_region /><organization_country /><organization_postal_code /><work_from_date>04-2015</work_from_date><work_to_date>2015</work_to_date><work_duration_value>April 15 - Sep. 15</work_duration_value><work_years>0</work_years><work_months>0</work_months><work_days>0</work_days><work_description> Letter drafting &amp; Letter reply.\\n Online ticket booking (for staff\\'s travelling) .\\n ESIC &amp; EPF registration for new employees.\\n Updating EPF (KYC) for employees.\\n Preparing quotations on excel, Preparing presentation\\n Helping in tender submission (online &amp; offline) and maintaining tender related\\n documents.</work_description></work_experience><work_experience><designation>LOWER DIVISIONAL CLERK</designation><organization_name>Safdarjung Airport</organization_name><organization_locality /><organization_region /><organization_country /><organization_postal_code /><work_from_date>06-2014</work_from_date><work_to_date>03-2014</work_to_date><work_duration_value>June 14 - March</work_duration_value><work_years>0</work_years><work_months>0</work_months><work_days>0</work_days><work_description> Letter drafting &amp; Letter reply.\\n Filling &amp; maintaining database of Admin Dept.\\n Salary preparation on NIC software for employees.\\n Timely submission of telephone and electricity bills.\\n Budgeting for students camps.\\n Applying budget for office expenses and maintaining the same.\\n Maintaining In and Out letters record\\n Maintaining office stationary, postage stamps &amp; office expense\\n Preparation medical bills of employees for reimbursement.</work_description></work_experience><work_experience><designation>STORE IN- CHARGE</designation><organization_name>Prakash Switchgear</organization_name><organization_locality /><organization_region /><organization_country /><organization_postal_code /><work_from_date>07-2013</work_from_date><work_to_date>2013</work_to_date><work_duration_value>July 13 - Dec. 13</work_duration_value><work_years>0</work_years><work_months>0</work_months><work_days>0</work_days><work_description /></work_experience><work_experience><designation>FINANCIAL ADVISOR</designation><organization_name>Met Life India Insurance Co. Limited</organization_name><organization_locality /><organization_region /><organization_country /><organization_postal_code /><work_from_date>04-2012</work_from_date><work_to_date>06-2013</work_to_date><work_duration_value>April 12 - June 13</work_duration_value><work_years>0</work_years><work_months>0</work_months><work_days>0</work_days><work_description /></work_experience><work_experience><designation>FINANCIAL ADVISOR</designation><organization_name>Birla Sun Life Insurance Co. Limited</organization_name><organization_locality /><organization_region /><organization_country /><organization_postal_code /><work_from_date>06-2009</work_from_date><work_to_date>07-2009</work_to_date><work_duration_value>June 09 - July 09</work_duration_value><work_years>0</work_years><work_months>0</work_months><work_days>0</work_days><work_description /></work_experience></work_experiences><skills><hard_skill><parsed_value>Client Relations Management</parsed_value><collected_from /><predicted_label /><proficiency /></hard_skill><hard_skill><parsed_value>Employee Relations</parsed_value><collected_from /><predicted_label /><proficiency /></hard_skill><hard_skill><parsed_value>Record Keeping</parsed_value><collected_from /><predicted_label /><proficiency /></hard_skill><hard_skill><parsed_value>Contract document generation</parsed_value><collected_from /><predicted_label /><proficiency /></hard_skill><hard_skill><parsed_value>Business Administration</parsed_value><collected_from /><predicted_label /><proficiency /></hard_skill><hard_skill><parsed_value>Answering queries</parsed_value><collected_from /><predicted_label /><proficiency /></hard_skill><hard_skill><parsed_value>MS- Office</parsed_value><collected_from /><predicted_label /><proficiency /></hard_skill><hard_skill><parsed_value>Photoshop</parsed_value><collected_from /><predicted_label /><proficiency /></hard_skill><hard_skill><parsed_value>Internet Savvy</parsed_value><collected_from /><predicted_label /><proficiency /></hard_skill><soft_skill><parsed_value>Creative Problem Solver</parsed_value><predicted_label /><proficiency /></soft_skill><soft_skill><parsed_value>Note taking</parsed_value><predicted_label /><proficiency /></soft_skill><soft_skill><parsed_value>Decision making</parsed_value><predicted_label /><proficiency /></soft_skill><soft_skill><parsed_value>Fast Learning</parsed_value><predicted_label /><proficiency /></soft_skill><soft_skill><parsed_value>Hard Working</parsed_value><predicted_label /><proficiency /></soft_skill><soft_skill><parsed_value>Leadership</parsed_value><predicted_label /><proficiency /></soft_skill><soft_skill><parsed_value>Attention to detail</parsed_value><predicted_label /><proficiency /></soft_skill><soft_skill><parsed_value>Co- ordination</parsed_value><predicted_label /><proficiency /></soft_skill><soft_skill><parsed_value>Self- Motivated</parsed_value><predicted_label /><proficiency /></soft_skill></skills><projects /><achievements><achievement>1st Div</achievement></achievements><certificates /><workshops /><publications /><references /></resume>', 'resume_text': \" 9868949825\\n\\n AREAS OF EXPERTISE\\n\\n Client Relations Management\\n Employee Relations\\n Record Keeping\\n Contract document generation\\n Creative Problem Solver\\n Business Administration\\n Note taking\\n Answering queries\\n\\n PROFESSIONAL\\n\\n MS- Office\\n Photoshop\\n Internet Savvy\\n\\n PERSONAL SKILLS\\n\\n Decision making\\n Fast Learning\\n Hard Working\\n Leadership\\n Attention to detail\\n Co- ordination\\n Self- Motivated\\n\\n PERSONAL DETAILS\\n\\n Sanjay Kumar\\n H. No.- D- 2\\n M.R. Dayalpur\\n P.O. Gokul Pur\\n Delhi- 110094\\n M: 9868 9498 25\\n E: sanjay.kr114@gmail.com\\n\\n Sanjay Kumar\\n\\n Sanjay Kumar\\n\\n HR Executive\\n 5 years of experience including 3+ years' professional experience as an HR Executive in\\n handling human resource projects.\\n\\n PERSONAL SUMMARY\\n I am a competent and organized individual who is able to work as part of a team or\\n individual and manage several priorities. I have a positive attitude, strong work\\n ethic, and a keen desire to learn and grow within a firm. I always treat people with\\n respect and according to their individual needs. As a dedicated professional I fully\\n understand the importance of the HR department to any organization, and therefore\\n aim to make any office I work in as effective and efficient as possible. I would like to\\n work for a friendly and exciting company that is looking for a HR Executive, who\\n can reflect his values.\\n\\n CAREER HISTORY\\n Sirius Global Limited (Nehru Place, New Delhi)\\n HR- ADMIN EXECUTIVE\\t\\t\\t June 2016 - Present\\n Responsible for the statutory compliances, recruitment, induction, exit formalities of\\n the employees, providing full administrative support to the HR Managers and Officers.\\n\\n Job Responsibilities:\\n Responsible for Employee Recruitment Process.\\n Handling Documentation process of the employees.\\n Handling Joining formalities.\\n Carrying out reference checks on prospective employees.\\n Acting as the first point of contact for anyone enquiring about avacancy.\\n Maintain the records of employees\\n Track the attendance of the employees\\n Preparing Salary, Bonus, leave record, arrears and overtime of employees.\\n ESIC & EPF registration for new employees, Updating KYC for employees.\\n Preparing PF & ESIC Challan on excel as well as online.\\n Preparing full & final settlement of employees.\\n Letter drafting & Letter reply for interaction with the clients\\n Helping in tender submission (online & offline) and maintaining tender related\\n documents.\\n\\n Lion Manpower Solutions Private Limited (Vasant Kunj, New Delhi)\\n HR- ADMIN EXECUTIVE/ OFFICE COORDINATOR\\t\\t April 15 - Sep. 15\\n Job Responsibilities:\\n Letter drafting & Letter reply.\\n Online ticket booking (for staff's travelling) .\\n ESIC & EPF registration for new employees.\\n Updating EPF (KYC) for employees.\\n Preparing quotations on excel, Preparing presentation\\n Helping in tender submission (online & offline) and maintaining tender related\\n documents.\\n\\n 1\\n\\n Sanjay Kumar\\n\\n 1 Delhi Air Sqn. (Flg.) (Safdarjung Airport, New Delhi)\\n LOWER DIVISIONAL CLERK\\t\\t\\t June 14 - March\\n\\n 9868949825\\n\\n DATE OF BIRTH\\n\\n July 14, 1986\\n\\n GENDER\\n\\n Male\\n\\n MARITAL STATUS\\n\\n Unmarried\\n\\n LANGUAGES\\n\\n Hindi\\n English\\n\\n HOBBIES\\n\\n Reading\\n Listening Music\\n Poetry\\n\\n NATIONALITY\\n\\n Indian\\t\\t\\t ACADEMIC QUALIFICATIONS\\n XII (Science Stream)\\t\\t\\t (CBSE, Delhi)\\t\\t\\t 2006\\t\\t\\t 52%\\n X (General)\\t\\t\\t (CBSE, Delhi)\\t\\t\\t 2003\\t\\t\\t 65%\\n\\n REFERENCES - Available on request.\\n\\n Date: XX- XX- 2019\\t\\t\\t (Sanjay Kumar)\\n\\n 2\\n\\n 15\\n Job Responsibilities:\\n Letter drafting & Letter reply.\\n Filling & maintaining database of Admin Dept.\\n Salary preparation on NIC software for employees.\\n Timely submission of telephone and electricity bills.\\n Budgeting for students camps.\\n Applying budget for office expenses and maintaining the same.\\n Maintaining In and Out letters record\\n Maintaining office stationary, postage stamps & office expense\\n Preparation medical bills of employees for reimbursement.\\n\\n Prakash Switchgear (Ghonda, Delhi)\\n STORE IN- CHARGE\\t\\t\\t July 13 - Dec. 13\\n\\n Met Life India Insurance Co. Limited (Noida Sector- 18, U.P.)\\n FINANCIAL ADVISOR\\t\\t\\t April 12 - June 13\\n\\n INTERNSHIP\\n Birla Sun Life Insurance Co. Limited (Hargovind Enclave, Delhi)\\n FINANCIAL ADVISOR\\t\\t\\t June 09 - July 09\\n\\n PROFESSIONAL QUALIFICATIONS\\n MBA- Human Resource\\t\\t (S.M. University, Delhi)\\t 2010 - 2012 1st Div.\\n BBA\\t\\t\\t (G.G.S.I.P. University, Delhi) 2006 - 2009 1st Div.\"}}\n"
     ]
    }
   ],
   "source": [
    "import requests\n",
    "\n",
    "url = \"http://crmgpu6-10042:37991/image/api/resume/parse\"\n",
    "file_path = \"C:/Users/shari/Desktop/Zoho/HR/HR1.pdf\"\n",
    "\n",
    "with open(file_path, \"rb\") as f:\n",
    "    files = [\n",
    "        (\"resume\", (\"HR1.pdf\", f, \"application/pdf\"))\n",
    "    ]\n",
    "    response = requests.post(url, files=files)  # payload/data not needed unless API expects it\n",
    "\n",
    "# Print JSON body\n",
    "print(response.status_code)\n",
    "try:\n",
    "    print(response.json())\n",
    "except requests.JSONDecodeError:\n",
    "    print(response.json)\n"
   ]
  },
  {
   "cell_type": "code",
   "execution_count": 3,
   "id": "8294db38-fa1e-45f4-8cad-d7e1aeb88164",
   "metadata": {},
   "outputs": [],
   "source": [
    "data = response.json()"
   ]
  },
  {
   "cell_type": "code",
   "execution_count": 4,
   "id": "62e57aed-314f-4041-9ac3-d1296b30e872",
   "metadata": {},
   "outputs": [
    {
     "data": {
      "text/plain": [
       "dict_keys(['status', 'message', 'parsed_json'])"
      ]
     },
     "execution_count": 4,
     "metadata": {},
     "output_type": "execute_result"
    }
   ],
   "source": [
    "data.keys()"
   ]
  },
  {
   "cell_type": "code",
   "execution_count": 5,
   "id": "aa11bfc9-53a1-4714-ba93-f5cc50885982",
   "metadata": {},
   "outputs": [
    {
     "data": {
      "text/plain": [
       "{'primary_information': {'candidate_name': {'first_name': 'Sanjay',\n",
       "   'last_name': 'Kumar',\n",
       "   'raw_name': 'Sanjay Kumar'},\n",
       "  'contact_information': {'phone_numbers': [{'country_code': 'IN',\n",
       "     'country_name': 'India',\n",
       "     'mobile_dial_code': '+91',\n",
       "     'mobile_number': '9868949825'}],\n",
       "   'emails': ['sanjay.kr114@gmail.com'],\n",
       "   'addresses': [{'raw': {'address_line': 'H. No.- D- 2 M.R. Dayalpur P.O. Gokul Pur, Delhi Air Sqn. (Flg.)',\n",
       "      'parsed_region': 'Delhi',\n",
       "      'postal_code': '110094'},\n",
       "     'enriched': {'state': 'Delhi',\n",
       "      'country': 'India',\n",
       "      'country_code': 'IN',\n",
       "      'latitude': 28.663866666666667,\n",
       "      'longitude': 77.22776666666665}}],\n",
       "   'languages_known': [{'parsed_value': 'Hindi'},\n",
       "    {'parsed_value': 'English'}]},\n",
       "  'demographics': {'date_of_birth': 'July 14, 1986',\n",
       "   'marital_status': 'SINGLE',\n",
       "   'nationalities': [{'country_code': 'IN',\n",
       "     'country_name': 'India',\n",
       "     'parsed_value': 'Indian'}],\n",
       "   'gender': 'MALE'},\n",
       "  'professional_information': {'highest_qualification': 'Master of Business Administration',\n",
       "   'current_designation': 'HR- ADMIN EXECUTIVE',\n",
       "   'current_employer': 'Sirius Global Limited',\n",
       "   'total_duration_of_experience': {'years': 11, 'months': 8},\n",
       "   'professional_title': ['HR Executive'],\n",
       "   'professional_summary': \" 5 years of experience including 3+ years' professional experience as an HR Executive in\\n handling human resource projects.\\n\\n PERSONAL SUMMARY\"},\n",
       "  'profile_description': ' I am a competent and organized individual who is able to work as part of a team or\\n individual and manage several priorities. I have a positive attitude, strong work\\n ethic, and a keen desire to learn and grow within a firm. I always treat people with\\n respect and according to their individual needs. As a dedicated professional I fully\\n understand the importance of the HR department to any organization, and therefore\\n aim to make any office I work in as effective and efficient as possible. I would like to\\n work for a friendly and exciting company that is looking for a HR Executive, who\\n can reflect his values.'},\n",
       " 'education': [{'qualification': {'parsed_value': 'MBA',\n",
       "    'full_form': 'Master of Business Administration',\n",
       "    'qualification_level': 'Masters'},\n",
       "   'course': {'parsed_value': 'Human Resource',\n",
       "    'field_of_study_category': 'Business / Management'},\n",
       "   'board_of_study': {'parsed_value': 'S.M. University'},\n",
       "   'institute': {'institute_name': 'S.M. University',\n",
       "    'location': {'raw': {'parsed_region': 'Delhi'},\n",
       "     'enriched': {'state': 'Delhi',\n",
       "      'country': 'India',\n",
       "      'latitude': 28.635758540925263,\n",
       "      'longitude': 77.14904483985765}}},\n",
       "   'duration_of_study': {'from': '2010',\n",
       "    'from_milliseconds': 1262284200000,\n",
       "    'to': '2012',\n",
       "    'to_milliseconds': 1325356200000,\n",
       "    'years': 2,\n",
       "    'parsed_value': '2010 - 2012',\n",
       "    'from_format': '%Y',\n",
       "    'from_iso': '2010-01-01T00:00:00',\n",
       "    'to_format': '%Y',\n",
       "    'to_iso': '2012-01-01T00:00:00'}},\n",
       "  {'qualification': {'parsed_value': 'BBA',\n",
       "    'full_form': 'Bachelor of Business Administration',\n",
       "    'qualification_level': 'Bachelors'},\n",
       "   'board_of_study': {'parsed_value': 'G.G.S.I.P. University'},\n",
       "   'institute': {'institute_name': 'G.G.S.I.P. University',\n",
       "    'location': {'raw': {'parsed_region': 'Delhi'},\n",
       "     'enriched': {'state': 'Delhi',\n",
       "      'country': 'India',\n",
       "      'latitude': 28.635758540925263,\n",
       "      'longitude': 77.14904483985765}}},\n",
       "   'duration_of_study': {'from': '2006',\n",
       "    'from_milliseconds': 1136053800000,\n",
       "    'to': '2009',\n",
       "    'to_milliseconds': 1230748200000,\n",
       "    'years': 3,\n",
       "    'parsed_value': '2006 - 2009',\n",
       "    'from_format': '%Y',\n",
       "    'from_iso': '2006-01-01T00:00:00',\n",
       "    'to_format': '%Y',\n",
       "    'to_iso': '2009-01-01T00:00:00'}},\n",
       "  {'qualification': {'parsed_value': 'XII',\n",
       "    'full_form': 'Class 12 / Higher Secondary Certificate (HSC)',\n",
       "    'qualification_level': 'Higher Secondary Education'},\n",
       "   'course': {'parsed_value': 'Science Stream',\n",
       "    'field_of_study_category': 'Education / Science'},\n",
       "   'board_of_study': {'parsed_value': 'CBSE'},\n",
       "   'institute': {'location': {'raw': {'parsed_region': 'Delhi'},\n",
       "     'enriched': {'state': 'Delhi',\n",
       "      'country': 'India',\n",
       "      'latitude': 28.635758540925263,\n",
       "      'longitude': 77.14904483985765}}},\n",
       "   'duration_of_study': {'from': '2006',\n",
       "    'from_milliseconds': 1136053800000,\n",
       "    'to': '2006',\n",
       "    'to_milliseconds': 1167503400000,\n",
       "    'years': 1,\n",
       "    'parsed_value': '2006',\n",
       "    'from_format': '%Y',\n",
       "    'from_iso': '2006-01-01T00:00:00',\n",
       "    'to_format': '%Y',\n",
       "    'to_iso': '2006-12-31T00:00:00'},\n",
       "   'score': {'score_value': '52', 'score_unit': 'PERCENT'}},\n",
       "  {'qualification': {'parsed_value': 'X',\n",
       "    'full_form': 'Class 10 / Secondary School Certificate (SSC)',\n",
       "    'qualification_level': 'Secondary Education'},\n",
       "   'course': {'parsed_value': 'General'},\n",
       "   'board_of_study': {'parsed_value': 'CBSE'},\n",
       "   'institute': {'location': {'raw': {'parsed_region': 'Delhi'},\n",
       "     'enriched': {'state': 'Delhi',\n",
       "      'country': 'India',\n",
       "      'latitude': 28.635758540925263,\n",
       "      'longitude': 77.14904483985765}}},\n",
       "   'duration_of_study': {'from': '2003',\n",
       "    'from_milliseconds': 1041359400000,\n",
       "    'to': '2003',\n",
       "    'to_milliseconds': 1072809000000,\n",
       "    'years': 1,\n",
       "    'parsed_value': '2003',\n",
       "    'from_format': '%Y',\n",
       "    'from_iso': '2003-01-01T00:00:00',\n",
       "    'to_format': '%Y',\n",
       "    'to_iso': '2003-12-31T00:00:00'},\n",
       "   'score': {'score_value': '65', 'score_unit': 'PERCENT'}}],\n",
       " 'work_experiences': [{'designation': 'HR- ADMIN EXECUTIVE',\n",
       "   'organization': {'organization_name': 'Sirius Global Limited',\n",
       "    'location': {'raw': {'parsed_region': 'Nehru Place, New Delhi'},\n",
       "     'enriched': {'state': 'Delhi',\n",
       "      'country': 'India',\n",
       "      'latitude': 28.5014,\n",
       "      'longitude': 77.2274}}},\n",
       "   'duration_of_work': {'from': '06-2016',\n",
       "    'from_milliseconds': 1464719400000,\n",
       "    'to': 'Ongoing',\n",
       "    'to_milliseconds': 1755841844789,\n",
       "    'years': 9,\n",
       "    'months': 2,\n",
       "    'parsed_value': 'June 2016 - Present',\n",
       "    'is_ongoing': True,\n",
       "    'from_format': '%m-%Y',\n",
       "    'from_iso': '2016-06-01T00:00:00'},\n",
       "   'work_description': ' Responsible for the statutory compliances, recruitment, induction, exit formalities of\\n the employees, providing full administrative support to the HR Managers and Officers.\\n\\n Job Responsibilities:\\n Responsible for Employee Recruitment Process.\\n Handling Documentation process of the employees.\\n Handling Joining formalities.\\n Carrying out reference checks on prospective employees.\\n Acting as the first point of contact for anyone enquiring about avacancy.\\n Maintain the records of employees\\n Track the attendance of the employees\\n Preparing Salary, Bonus, leave record, arrears and overtime of employees.\\n ESIC & EPF registration for new employees, Updating KYC for employees.\\n Preparing PF & ESIC Challan on excel as well as online.\\n Preparing full & final settlement of employees.\\n Letter drafting & Letter reply for interaction with the clients\\n Helping in tender submission (online & offline) and maintaining tender related\\n documents.'},\n",
       "  {'designation': 'HR- ADMIN EXECUTIVE/ OFFICE COORDINATOR',\n",
       "   'organization': {'organization_name': 'Lion Manpower Solutions Private Limited',\n",
       "    'location': {'raw': {'parsed_region': 'Vasant Kunj, New Delhi'},\n",
       "     'enriched': {'nearby_city': 'New Delhi',\n",
       "      'state': 'Delhi',\n",
       "      'country': 'India',\n",
       "      'latitude': 28.6012581300813,\n",
       "      'longitude': 77.14510365853658}}},\n",
       "   'duration_of_work': {'from': '04-2015',\n",
       "    'from_milliseconds': 1427826600000,\n",
       "    'to': '2015',\n",
       "    'to_milliseconds': 1451500200000,\n",
       "    'months': 9,\n",
       "    'parsed_value': 'April 15 - Sep. 15',\n",
       "    'from_format': '%m-%Y',\n",
       "    'from_iso': '2015-04-01T00:00:00',\n",
       "    'to_format': '%Y',\n",
       "    'to_iso': '2015-12-31T00:00:00'},\n",
       "   'work_description': \" Letter drafting & Letter reply.\\n Online ticket booking (for staff's travelling) .\\n ESIC & EPF registration for new employees.\\n Updating EPF (KYC) for employees.\\n Preparing quotations on excel, Preparing presentation\\n Helping in tender submission (online & offline) and maintaining tender related\\n documents.\"},\n",
       "  {'designation': 'LOWER DIVISIONAL CLERK',\n",
       "   'organization': {'organization_name': 'Safdarjung Airport',\n",
       "    'location': {'raw': {'parsed_region': 'New Delhi'},\n",
       "     'enriched': {'nearby_city': 'New Delhi',\n",
       "      'state': 'Delhi',\n",
       "      'country': 'India',\n",
       "      'latitude': 28.6012581300813,\n",
       "      'longitude': 77.14510365853658}}},\n",
       "   'duration_of_work': {'from': '06-2014',\n",
       "    'from_milliseconds': 1401561000000,\n",
       "    'to': '03-2014',\n",
       "    'to_milliseconds': 1393612200000,\n",
       "    'months': -3,\n",
       "    'parsed_value': 'June 14 - March',\n",
       "    'from_format': '%m-%Y',\n",
       "    'from_iso': '2014-06-01T00:00:00',\n",
       "    'to_format': '%m-%Y',\n",
       "    'to_iso': '2014-03-01T00:00:00'},\n",
       "   'work_description': ' Letter drafting & Letter reply.\\n Filling & maintaining database of Admin Dept.\\n Salary preparation on NIC software for employees.\\n Timely submission of telephone and electricity bills.\\n Budgeting for students camps.\\n Applying budget for office expenses and maintaining the same.\\n Maintaining In and Out letters record\\n Maintaining office stationary, postage stamps & office expense\\n Preparation medical bills of employees for reimbursement.'},\n",
       "  {'designation': 'STORE IN- CHARGE',\n",
       "   'organization': {'organization_name': 'Prakash Switchgear',\n",
       "    'location': {'raw': {'parsed_region': 'Ghonda, Delhi'},\n",
       "     'enriched': {'state': 'Delhi',\n",
       "      'country': 'India',\n",
       "      'latitude': 28.635758540925263,\n",
       "      'longitude': 77.14904483985765}}},\n",
       "   'duration_of_work': {'from': '07-2013',\n",
       "    'from_milliseconds': 1372617000000,\n",
       "    'to': '2013',\n",
       "    'to_milliseconds': 1388428200000,\n",
       "    'months': 6,\n",
       "    'parsed_value': 'July 13 - Dec. 13',\n",
       "    'from_format': '%m-%Y',\n",
       "    'from_iso': '2013-07-01T00:00:00',\n",
       "    'to_format': '%Y',\n",
       "    'to_iso': '2013-12-31T00:00:00'}},\n",
       "  {'designation': 'FINANCIAL ADVISOR',\n",
       "   'organization': {'organization_name': 'Met Life India Insurance Co. Limited',\n",
       "    'location': {'raw': {'parsed_region': 'Noida Sector, U.P'},\n",
       "     'enriched': {'country': 'India',\n",
       "      'latitude': 28.6302,\n",
       "      'longitude': 77.3918,\n",
       "      'is_ambiguous': True}}},\n",
       "   'duration_of_work': {'from': '04-2012',\n",
       "    'from_milliseconds': 1333218600000,\n",
       "    'to': '06-2013',\n",
       "    'to_milliseconds': 1370025000000,\n",
       "    'years': 1,\n",
       "    'months': 2,\n",
       "    'parsed_value': 'April 12 - June 13',\n",
       "    'from_format': '%m-%Y',\n",
       "    'from_iso': '2012-04-01T00:00:00',\n",
       "    'to_format': '%m-%Y',\n",
       "    'to_iso': '2013-06-01T00:00:00'}},\n",
       "  {'designation': 'FINANCIAL ADVISOR',\n",
       "   'organization': {'organization_name': 'Birla Sun Life Insurance Co. Limited',\n",
       "    'location': {'raw': {'parsed_region': 'Hargovind Enclave, Delhi'},\n",
       "     'enriched': {'state': 'Delhi',\n",
       "      'country': 'India',\n",
       "      'latitude': 28.635758540925263,\n",
       "      'longitude': 77.14904483985765}}},\n",
       "   'duration_of_work': {'from': '06-2009',\n",
       "    'from_milliseconds': 1243794600000,\n",
       "    'to': '07-2009',\n",
       "    'to_milliseconds': 1246386600000,\n",
       "    'months': 1,\n",
       "    'parsed_value': 'June 09 - July 09',\n",
       "    'from_format': '%m-%Y',\n",
       "    'from_iso': '2009-06-01T00:00:00',\n",
       "    'to_format': '%m-%Y',\n",
       "    'to_iso': '2009-07-01T00:00:00'}}],\n",
       " 'skills': {'hard_skills': [{'parsed_value': 'Client Relations Management',\n",
       "    'parsed_from': ['skills section']},\n",
       "   {'parsed_value': 'Employee Relations', 'parsed_from': ['skills section']},\n",
       "   {'parsed_value': 'Record Keeping', 'parsed_from': ['skills section']},\n",
       "   {'parsed_value': 'Contract document generation',\n",
       "    'parsed_from': ['skills section']},\n",
       "   {'parsed_value': 'Business Administration',\n",
       "    'parsed_from': ['skills section']},\n",
       "   {'parsed_value': 'Answering queries', 'parsed_from': ['skills section']},\n",
       "   {'parsed_value': 'MS- Office', 'parsed_from': ['skills section']},\n",
       "   {'parsed_value': 'Photoshop', 'parsed_from': ['skills section']},\n",
       "   {'parsed_value': 'Internet Savvy', 'parsed_from': ['skills section']}],\n",
       "  'soft_skills': [{'parsed_value': 'Creative Problem Solver',\n",
       "    'parsed_from': ['skills section']},\n",
       "   {'parsed_value': 'Note taking', 'parsed_from': ['skills section']},\n",
       "   {'parsed_value': 'Decision making', 'parsed_from': ['skills section']},\n",
       "   {'parsed_value': 'Fast Learning', 'parsed_from': ['skills section']},\n",
       "   {'parsed_value': 'Hard Working', 'parsed_from': ['skills section']},\n",
       "   {'parsed_value': 'Leadership', 'parsed_from': ['skills section']},\n",
       "   {'parsed_value': 'Attention to detail', 'parsed_from': ['skills section']},\n",
       "   {'parsed_value': 'Co- ordination', 'parsed_from': ['skills section']},\n",
       "   {'parsed_value': 'Self- Motivated', 'parsed_from': ['skills section']}]},\n",
       " 'interests': {'general': [{'parsed_value': 'Reading'},\n",
       "   {'parsed_value': 'Listening Music'},\n",
       "   {'parsed_value': 'Poetry'}]},\n",
       " 'achievements': ['1st Div'],\n",
       " 'hr-xml': '<?xml version=\"1.0\" encoding=\"UTF-8\"?>\\n<resume><primary_information><candidate_name><prefix /><first_name>Sanjay</first_name><middle_name /><last_name>Kumar</last_name><suffix /><raw_name>Sanjay Kumar</raw_name></candidate_name><contact_information><phone_number><mobile_dial_code>+91</mobile_dial_code><phone_number /></phone_number><email>sanjay.kr114@gmail.com</email><address><address_line /><locality /><region /><country /><postal_code /></address><language_known><parsed_value>Hindi</parsed_value><predicted_label /><proficiency /></language_known><language_known><parsed_value>English</parsed_value><predicted_label /><proficiency /></language_known></contact_information><demographics><date_of_birth>July 14, 1986</date_of_birth><age_years>0</age_years><age_months>0</age_months><age_days>0</age_days><marital_status>SINGLE</marital_status><nationality>{\\'country_code\\': \\'IN\\', \\'country_name\\': \\'India\\', \\'parsed_value\\': \\'Indian\\'}</nationality><gender>MALE</gender><disability /></demographics></primary_information><professional_information><current_designation>HR- ADMIN EXECUTIVE</current_designation><current_employer>Sirius Global Limited</current_employer><experience_years>11</experience_years><experience_months>8</experience_months><professional_summary> 5 years of experience including 3+ years\\' professional experience as an HR Executive in\\n handling human resource projects.\\n\\n PERSONAL SUMMARY</professional_summary></professional_information><links><linkedin /></links><profile_description> I am a competent and organized individual who is able to work as part of a team or\\n individual and manage several priorities. I have a positive attitude, strong work\\n ethic, and a keen desire to learn and grow within a firm. I always treat people with\\n respect and according to their individual needs. As a dedicated professional I fully\\n understand the importance of the HR department to any organization, and therefore\\n aim to make any office I work in as effective and efficient as possible. I would like to\\n work for a friendly and exciting company that is looking for a HR Executive, who\\n can reflect his values.</profile_description><job_preferences><willingness_to_relocate /><availability_for_interview /></job_preferences><education><education_item><qualification_value>MBA</qualification_value><qualification_predicted_label /><qualification_level>Masters</qualification_level><course_value>Human Resource</course_value><course_predicted_label /><field_of_study_category>Business / Management</field_of_study_category><board_of_study_value>S.M. University</board_of_study_value><board_of_study_predicted_label /><institute_name>S.M. University</institute_name><institute_locality /><institute_region /><institute_country /><institute_postal_code /><study_duration_value>2010 - 2012</study_duration_value><study_from_date>2010</study_from_date><study_to_date>2012</study_to_date><study_years>0</study_years><study_months>0</study_months><study_days>0</study_days><score_value>0</score_value><score_unit /><score_percentage>0.0</score_percentage></education_item><education_item><qualification_value>BBA</qualification_value><qualification_predicted_label /><qualification_level>Bachelors</qualification_level><course_value /><course_predicted_label /><field_of_study_category /><board_of_study_value>G.G.S.I.P. University</board_of_study_value><board_of_study_predicted_label /><institute_name>G.G.S.I.P. University</institute_name><institute_locality /><institute_region /><institute_country /><institute_postal_code /><study_duration_value>2006 - 2009</study_duration_value><study_from_date>2006</study_from_date><study_to_date>2009</study_to_date><study_years>0</study_years><study_months>0</study_months><study_days>0</study_days><score_value>0</score_value><score_unit /><score_percentage>0.0</score_percentage></education_item><education_item><qualification_value>XII</qualification_value><qualification_predicted_label /><qualification_level>Higher Secondary Education</qualification_level><course_value>Science Stream</course_value><course_predicted_label /><field_of_study_category>Education / Science</field_of_study_category><board_of_study_value>CBSE</board_of_study_value><board_of_study_predicted_label /><institute_name /><institute_locality /><institute_region /><institute_country /><institute_postal_code /><study_duration_value>2006</study_duration_value><study_from_date>2006</study_from_date><study_to_date>2006</study_to_date><study_years>0</study_years><study_months>0</study_months><study_days>0</study_days><score_value>52</score_value><score_unit>PERCENT</score_unit><score_percentage>0.0</score_percentage></education_item><education_item><qualification_value>X</qualification_value><qualification_predicted_label /><qualification_level>Secondary Education</qualification_level><course_value>General</course_value><course_predicted_label /><field_of_study_category /><board_of_study_value>CBSE</board_of_study_value><board_of_study_predicted_label /><institute_name /><institute_locality /><institute_region /><institute_country /><institute_postal_code /><study_duration_value>2003</study_duration_value><study_from_date>2003</study_from_date><study_to_date>2003</study_to_date><study_years>0</study_years><study_months>0</study_months><study_days>0</study_days><score_value>65</score_value><score_unit>PERCENT</score_unit><score_percentage>0.0</score_percentage></education_item></education><work_experiences><work_experience><designation>HR- ADMIN EXECUTIVE</designation><organization_name>Sirius Global Limited</organization_name><organization_locality /><organization_region /><organization_country /><organization_postal_code /><work_from_date>06-2016</work_from_date><work_to_date>Ongoing</work_to_date><work_duration_value>June 2016 - Present</work_duration_value><work_years>0</work_years><work_months>0</work_months><work_days>0</work_days><work_description> Responsible for the statutory compliances, recruitment, induction, exit formalities of\\n the employees, providing full administrative support to the HR Managers and Officers.\\n\\n Job Responsibilities:\\n Responsible for Employee Recruitment Process.\\n Handling Documentation process of the employees.\\n Handling Joining formalities.\\n Carrying out reference checks on prospective employees.\\n Acting as the first point of contact for anyone enquiring about avacancy.\\n Maintain the records of employees\\n Track the attendance of the employees\\n Preparing Salary, Bonus, leave record, arrears and overtime of employees.\\n ESIC &amp; EPF registration for new employees, Updating KYC for employees.\\n Preparing PF &amp; ESIC Challan on excel as well as online.\\n Preparing full &amp; final settlement of employees.\\n Letter drafting &amp; Letter reply for interaction with the clients\\n Helping in tender submission (online &amp; offline) and maintaining tender related\\n documents.</work_description></work_experience><work_experience><designation>HR- ADMIN EXECUTIVE/ OFFICE COORDINATOR</designation><organization_name>Lion Manpower Solutions Private Limited</organization_name><organization_locality /><organization_region /><organization_country /><organization_postal_code /><work_from_date>04-2015</work_from_date><work_to_date>2015</work_to_date><work_duration_value>April 15 - Sep. 15</work_duration_value><work_years>0</work_years><work_months>0</work_months><work_days>0</work_days><work_description> Letter drafting &amp; Letter reply.\\n Online ticket booking (for staff\\'s travelling) .\\n ESIC &amp; EPF registration for new employees.\\n Updating EPF (KYC) for employees.\\n Preparing quotations on excel, Preparing presentation\\n Helping in tender submission (online &amp; offline) and maintaining tender related\\n documents.</work_description></work_experience><work_experience><designation>LOWER DIVISIONAL CLERK</designation><organization_name>Safdarjung Airport</organization_name><organization_locality /><organization_region /><organization_country /><organization_postal_code /><work_from_date>06-2014</work_from_date><work_to_date>03-2014</work_to_date><work_duration_value>June 14 - March</work_duration_value><work_years>0</work_years><work_months>0</work_months><work_days>0</work_days><work_description> Letter drafting &amp; Letter reply.\\n Filling &amp; maintaining database of Admin Dept.\\n Salary preparation on NIC software for employees.\\n Timely submission of telephone and electricity bills.\\n Budgeting for students camps.\\n Applying budget for office expenses and maintaining the same.\\n Maintaining In and Out letters record\\n Maintaining office stationary, postage stamps &amp; office expense\\n Preparation medical bills of employees for reimbursement.</work_description></work_experience><work_experience><designation>STORE IN- CHARGE</designation><organization_name>Prakash Switchgear</organization_name><organization_locality /><organization_region /><organization_country /><organization_postal_code /><work_from_date>07-2013</work_from_date><work_to_date>2013</work_to_date><work_duration_value>July 13 - Dec. 13</work_duration_value><work_years>0</work_years><work_months>0</work_months><work_days>0</work_days><work_description /></work_experience><work_experience><designation>FINANCIAL ADVISOR</designation><organization_name>Met Life India Insurance Co. Limited</organization_name><organization_locality /><organization_region /><organization_country /><organization_postal_code /><work_from_date>04-2012</work_from_date><work_to_date>06-2013</work_to_date><work_duration_value>April 12 - June 13</work_duration_value><work_years>0</work_years><work_months>0</work_months><work_days>0</work_days><work_description /></work_experience><work_experience><designation>FINANCIAL ADVISOR</designation><organization_name>Birla Sun Life Insurance Co. Limited</organization_name><organization_locality /><organization_region /><organization_country /><organization_postal_code /><work_from_date>06-2009</work_from_date><work_to_date>07-2009</work_to_date><work_duration_value>June 09 - July 09</work_duration_value><work_years>0</work_years><work_months>0</work_months><work_days>0</work_days><work_description /></work_experience></work_experiences><skills><hard_skill><parsed_value>Client Relations Management</parsed_value><collected_from /><predicted_label /><proficiency /></hard_skill><hard_skill><parsed_value>Employee Relations</parsed_value><collected_from /><predicted_label /><proficiency /></hard_skill><hard_skill><parsed_value>Record Keeping</parsed_value><collected_from /><predicted_label /><proficiency /></hard_skill><hard_skill><parsed_value>Contract document generation</parsed_value><collected_from /><predicted_label /><proficiency /></hard_skill><hard_skill><parsed_value>Business Administration</parsed_value><collected_from /><predicted_label /><proficiency /></hard_skill><hard_skill><parsed_value>Answering queries</parsed_value><collected_from /><predicted_label /><proficiency /></hard_skill><hard_skill><parsed_value>MS- Office</parsed_value><collected_from /><predicted_label /><proficiency /></hard_skill><hard_skill><parsed_value>Photoshop</parsed_value><collected_from /><predicted_label /><proficiency /></hard_skill><hard_skill><parsed_value>Internet Savvy</parsed_value><collected_from /><predicted_label /><proficiency /></hard_skill><soft_skill><parsed_value>Creative Problem Solver</parsed_value><predicted_label /><proficiency /></soft_skill><soft_skill><parsed_value>Note taking</parsed_value><predicted_label /><proficiency /></soft_skill><soft_skill><parsed_value>Decision making</parsed_value><predicted_label /><proficiency /></soft_skill><soft_skill><parsed_value>Fast Learning</parsed_value><predicted_label /><proficiency /></soft_skill><soft_skill><parsed_value>Hard Working</parsed_value><predicted_label /><proficiency /></soft_skill><soft_skill><parsed_value>Leadership</parsed_value><predicted_label /><proficiency /></soft_skill><soft_skill><parsed_value>Attention to detail</parsed_value><predicted_label /><proficiency /></soft_skill><soft_skill><parsed_value>Co- ordination</parsed_value><predicted_label /><proficiency /></soft_skill><soft_skill><parsed_value>Self- Motivated</parsed_value><predicted_label /><proficiency /></soft_skill></skills><projects /><achievements><achievement>1st Div</achievement></achievements><certificates /><workshops /><publications /><references /></resume>',\n",
       " 'resume_text': \" 9868949825\\n\\n AREAS OF EXPERTISE\\n\\n Client Relations Management\\n Employee Relations\\n Record Keeping\\n Contract document generation\\n Creative Problem Solver\\n Business Administration\\n Note taking\\n Answering queries\\n\\n PROFESSIONAL\\n\\n MS- Office\\n Photoshop\\n Internet Savvy\\n\\n PERSONAL SKILLS\\n\\n Decision making\\n Fast Learning\\n Hard Working\\n Leadership\\n Attention to detail\\n Co- ordination\\n Self- Motivated\\n\\n PERSONAL DETAILS\\n\\n Sanjay Kumar\\n H. No.- D- 2\\n M.R. Dayalpur\\n P.O. Gokul Pur\\n Delhi- 110094\\n M: 9868 9498 25\\n E: sanjay.kr114@gmail.com\\n\\n Sanjay Kumar\\n\\n Sanjay Kumar\\n\\n HR Executive\\n 5 years of experience including 3+ years' professional experience as an HR Executive in\\n handling human resource projects.\\n\\n PERSONAL SUMMARY\\n I am a competent and organized individual who is able to work as part of a team or\\n individual and manage several priorities. I have a positive attitude, strong work\\n ethic, and a keen desire to learn and grow within a firm. I always treat people with\\n respect and according to their individual needs. As a dedicated professional I fully\\n understand the importance of the HR department to any organization, and therefore\\n aim to make any office I work in as effective and efficient as possible. I would like to\\n work for a friendly and exciting company that is looking for a HR Executive, who\\n can reflect his values.\\n\\n CAREER HISTORY\\n Sirius Global Limited (Nehru Place, New Delhi)\\n HR- ADMIN EXECUTIVE\\t\\t\\t June 2016 - Present\\n Responsible for the statutory compliances, recruitment, induction, exit formalities of\\n the employees, providing full administrative support to the HR Managers and Officers.\\n\\n Job Responsibilities:\\n Responsible for Employee Recruitment Process.\\n Handling Documentation process of the employees.\\n Handling Joining formalities.\\n Carrying out reference checks on prospective employees.\\n Acting as the first point of contact for anyone enquiring about avacancy.\\n Maintain the records of employees\\n Track the attendance of the employees\\n Preparing Salary, Bonus, leave record, arrears and overtime of employees.\\n ESIC & EPF registration for new employees, Updating KYC for employees.\\n Preparing PF & ESIC Challan on excel as well as online.\\n Preparing full & final settlement of employees.\\n Letter drafting & Letter reply for interaction with the clients\\n Helping in tender submission (online & offline) and maintaining tender related\\n documents.\\n\\n Lion Manpower Solutions Private Limited (Vasant Kunj, New Delhi)\\n HR- ADMIN EXECUTIVE/ OFFICE COORDINATOR\\t\\t April 15 - Sep. 15\\n Job Responsibilities:\\n Letter drafting & Letter reply.\\n Online ticket booking (for staff's travelling) .\\n ESIC & EPF registration for new employees.\\n Updating EPF (KYC) for employees.\\n Preparing quotations on excel, Preparing presentation\\n Helping in tender submission (online & offline) and maintaining tender related\\n documents.\\n\\n 1\\n\\n Sanjay Kumar\\n\\n 1 Delhi Air Sqn. (Flg.) (Safdarjung Airport, New Delhi)\\n LOWER DIVISIONAL CLERK\\t\\t\\t June 14 - March\\n\\n 9868949825\\n\\n DATE OF BIRTH\\n\\n July 14, 1986\\n\\n GENDER\\n\\n Male\\n\\n MARITAL STATUS\\n\\n Unmarried\\n\\n LANGUAGES\\n\\n Hindi\\n English\\n\\n HOBBIES\\n\\n Reading\\n Listening Music\\n Poetry\\n\\n NATIONALITY\\n\\n Indian\\t\\t\\t ACADEMIC QUALIFICATIONS\\n XII (Science Stream)\\t\\t\\t (CBSE, Delhi)\\t\\t\\t 2006\\t\\t\\t 52%\\n X (General)\\t\\t\\t (CBSE, Delhi)\\t\\t\\t 2003\\t\\t\\t 65%\\n\\n REFERENCES - Available on request.\\n\\n Date: XX- XX- 2019\\t\\t\\t (Sanjay Kumar)\\n\\n 2\\n\\n 15\\n Job Responsibilities:\\n Letter drafting & Letter reply.\\n Filling & maintaining database of Admin Dept.\\n Salary preparation on NIC software for employees.\\n Timely submission of telephone and electricity bills.\\n Budgeting for students camps.\\n Applying budget for office expenses and maintaining the same.\\n Maintaining In and Out letters record\\n Maintaining office stationary, postage stamps & office expense\\n Preparation medical bills of employees for reimbursement.\\n\\n Prakash Switchgear (Ghonda, Delhi)\\n STORE IN- CHARGE\\t\\t\\t July 13 - Dec. 13\\n\\n Met Life India Insurance Co. Limited (Noida Sector- 18, U.P.)\\n FINANCIAL ADVISOR\\t\\t\\t April 12 - June 13\\n\\n INTERNSHIP\\n Birla Sun Life Insurance Co. Limited (Hargovind Enclave, Delhi)\\n FINANCIAL ADVISOR\\t\\t\\t June 09 - July 09\\n\\n PROFESSIONAL QUALIFICATIONS\\n MBA- Human Resource\\t\\t (S.M. University, Delhi)\\t 2010 - 2012 1st Div.\\n BBA\\t\\t\\t (G.G.S.I.P. University, Delhi) 2006 - 2009 1st Div.\"}"
      ]
     },
     "execution_count": 5,
     "metadata": {},
     "output_type": "execute_result"
    }
   ],
   "source": [
    "data['parsed_json']"
   ]
  },
  {
   "cell_type": "code",
   "execution_count": 6,
   "id": "153fceea-6aee-41b2-b404-84b7ae409728",
   "metadata": {},
   "outputs": [
    {
     "data": {
      "text/plain": [
       "dict"
      ]
     },
     "execution_count": 6,
     "metadata": {},
     "output_type": "execute_result"
    }
   ],
   "source": [
    "type(data)"
   ]
  },
  {
   "cell_type": "code",
   "execution_count": 7,
   "id": "97e313cb-d11a-4632-9d51-d42722a3421b",
   "metadata": {},
   "outputs": [],
   "source": [
    "parsed_data = data['parsed_json']"
   ]
  },
  {
   "cell_type": "code",
   "execution_count": 8,
   "id": "81791a8f-49d3-4648-aa2d-f064ac48bb85",
   "metadata": {},
   "outputs": [
    {
     "data": {
      "text/plain": [
       "dict"
      ]
     },
     "execution_count": 8,
     "metadata": {},
     "output_type": "execute_result"
    }
   ],
   "source": [
    "type(parsed_data)"
   ]
  },
  {
   "cell_type": "code",
   "execution_count": 9,
   "id": "62ee0485-4b4a-4b19-abe1-1f7c6344b8e4",
   "metadata": {},
   "outputs": [
    {
     "data": {
      "text/plain": [
       "6"
      ]
     },
     "execution_count": 9,
     "metadata": {},
     "output_type": "execute_result"
    }
   ],
   "source": [
    "len(parsed_data['work_experiences'])"
   ]
  },
  {
   "cell_type": "code",
   "execution_count": 10,
   "id": "b64a623c-6bd7-4fb3-b214-77321836ad7a",
   "metadata": {},
   "outputs": [],
   "source": [
    "works =[]\n",
    "works.append(parsed_data['work_experiences'][0]['work_description'])"
   ]
  },
  {
   "cell_type": "code",
   "execution_count": 11,
   "id": "459b8854-d63a-4e0a-8fa4-f49fecc2b1be",
   "metadata": {},
   "outputs": [
    {
     "data": {
      "text/plain": [
       "[' Responsible for the statutory compliances, recruitment, induction, exit formalities of\\n the employees, providing full administrative support to the HR Managers and Officers.\\n\\n Job Responsibilities:\\n Responsible for Employee Recruitment Process.\\n Handling Documentation process of the employees.\\n Handling Joining formalities.\\n Carrying out reference checks on prospective employees.\\n Acting as the first point of contact for anyone enquiring about avacancy.\\n Maintain the records of employees\\n Track the attendance of the employees\\n Preparing Salary, Bonus, leave record, arrears and overtime of employees.\\n ESIC & EPF registration for new employees, Updating KYC for employees.\\n Preparing PF & ESIC Challan on excel as well as online.\\n Preparing full & final settlement of employees.\\n Letter drafting & Letter reply for interaction with the clients\\n Helping in tender submission (online & offline) and maintaining tender related\\n documents.']"
      ]
     },
     "execution_count": 11,
     "metadata": {},
     "output_type": "execute_result"
    }
   ],
   "source": [
    "works"
   ]
  },
  {
   "cell_type": "code",
   "execution_count": 12,
   "id": "e3945369-5d96-488d-938f-3e26d2dc927d",
   "metadata": {},
   "outputs": [
    {
     "data": {
      "text/plain": [
       "2"
      ]
     },
     "execution_count": 12,
     "metadata": {},
     "output_type": "execute_result"
    }
   ],
   "source": [
    "len(parsed_data['skills'])"
   ]
  },
  {
   "cell_type": "code",
   "execution_count": 13,
   "id": "957602f0-a40a-4bc7-b7bd-16a505ad4298",
   "metadata": {},
   "outputs": [
    {
     "data": {
      "text/plain": [
       "{'hard_skills': [{'parsed_value': 'Client Relations Management',\n",
       "   'parsed_from': ['skills section']},\n",
       "  {'parsed_value': 'Employee Relations', 'parsed_from': ['skills section']},\n",
       "  {'parsed_value': 'Record Keeping', 'parsed_from': ['skills section']},\n",
       "  {'parsed_value': 'Contract document generation',\n",
       "   'parsed_from': ['skills section']},\n",
       "  {'parsed_value': 'Business Administration',\n",
       "   'parsed_from': ['skills section']},\n",
       "  {'parsed_value': 'Answering queries', 'parsed_from': ['skills section']},\n",
       "  {'parsed_value': 'MS- Office', 'parsed_from': ['skills section']},\n",
       "  {'parsed_value': 'Photoshop', 'parsed_from': ['skills section']},\n",
       "  {'parsed_value': 'Internet Savvy', 'parsed_from': ['skills section']}],\n",
       " 'soft_skills': [{'parsed_value': 'Creative Problem Solver',\n",
       "   'parsed_from': ['skills section']},\n",
       "  {'parsed_value': 'Note taking', 'parsed_from': ['skills section']},\n",
       "  {'parsed_value': 'Decision making', 'parsed_from': ['skills section']},\n",
       "  {'parsed_value': 'Fast Learning', 'parsed_from': ['skills section']},\n",
       "  {'parsed_value': 'Hard Working', 'parsed_from': ['skills section']},\n",
       "  {'parsed_value': 'Leadership', 'parsed_from': ['skills section']},\n",
       "  {'parsed_value': 'Attention to detail', 'parsed_from': ['skills section']},\n",
       "  {'parsed_value': 'Co- ordination', 'parsed_from': ['skills section']},\n",
       "  {'parsed_value': 'Self- Motivated', 'parsed_from': ['skills section']}]}"
      ]
     },
     "execution_count": 13,
     "metadata": {},
     "output_type": "execute_result"
    }
   ],
   "source": [
    "parsed_data['skills']"
   ]
  },
  {
   "cell_type": "code",
   "execution_count": 14,
   "id": "86f9b92f-3416-4211-b8bb-27e4f0d4f04b",
   "metadata": {},
   "outputs": [
    {
     "data": {
      "text/plain": [
       "{'parsed_value': 'Client Relations Management',\n",
       " 'parsed_from': ['skills section']}"
      ]
     },
     "execution_count": 14,
     "metadata": {},
     "output_type": "execute_result"
    }
   ],
   "source": [
    "parsed_data['skills']['hard_skills'][0]"
   ]
  },
  {
   "cell_type": "code",
   "execution_count": 15,
   "id": "0c092a50-cfa8-4e16-9837-ba9453290113",
   "metadata": {},
   "outputs": [],
   "source": [
    "Skills =[]\n",
    "Skills.append(parsed_data['skills']['hard_skills'])"
   ]
  },
  {
   "cell_type": "code",
   "execution_count": 16,
   "id": "6ae1f522-8641-472c-af3e-b1b03d2d7006",
   "metadata": {},
   "outputs": [
    {
     "data": {
      "text/plain": [
       "[[{'parsed_value': 'Client Relations Management',\n",
       "   'parsed_from': ['skills section']},\n",
       "  {'parsed_value': 'Employee Relations', 'parsed_from': ['skills section']},\n",
       "  {'parsed_value': 'Record Keeping', 'parsed_from': ['skills section']},\n",
       "  {'parsed_value': 'Contract document generation',\n",
       "   'parsed_from': ['skills section']},\n",
       "  {'parsed_value': 'Business Administration',\n",
       "   'parsed_from': ['skills section']},\n",
       "  {'parsed_value': 'Answering queries', 'parsed_from': ['skills section']},\n",
       "  {'parsed_value': 'MS- Office', 'parsed_from': ['skills section']},\n",
       "  {'parsed_value': 'Photoshop', 'parsed_from': ['skills section']},\n",
       "  {'parsed_value': 'Internet Savvy', 'parsed_from': ['skills section']}]]"
      ]
     },
     "execution_count": 16,
     "metadata": {},
     "output_type": "execute_result"
    }
   ],
   "source": [
    "Skills"
   ]
  },
  {
   "cell_type": "code",
   "execution_count": 24,
   "id": "d3243575-6f54-4132-805d-65ca4a5aa3a5",
   "metadata": {},
   "outputs": [
    {
     "data": {
      "text/plain": [
       "' I am a competent and organized individual who is able to work as part of a team or\\n individual and manage several priorities. I have a positive attitude, strong work\\n ethic, and a keen desire to learn and grow within a firm. I always treat people with\\n respect and according to their individual needs. As a dedicated professional I fully\\n understand the importance of the HR department to any organization, and therefore\\n aim to make any office I work in as effective and efficient as possible. I would like to\\n work for a friendly and exciting company that is looking for a HR Executive, who\\n can reflect his values.'"
      ]
     },
     "execution_count": 24,
     "metadata": {},
     "output_type": "execute_result"
    }
   ],
   "source": [
    "parsed_data['primary_information']['profile_description']"
   ]
  },
  {
   "cell_type": "code",
   "execution_count": 25,
   "id": "5d3c99db-ee7f-4c63-acb2-c819e29c6f4a",
   "metadata": {},
   "outputs": [],
   "source": [
    "profile_description = []\n",
    "profile_description.append(parsed_data['primary_information']['profile_description'])"
   ]
  },
  {
   "cell_type": "code",
   "execution_count": 26,
   "id": "4c4749fa-c5a5-4cf5-a401-9020cb9c3065",
   "metadata": {},
   "outputs": [
    {
     "data": {
      "text/plain": [
       "[' I am a competent and organized individual who is able to work as part of a team or\\n individual and manage several priorities. I have a positive attitude, strong work\\n ethic, and a keen desire to learn and grow within a firm. I always treat people with\\n respect and according to their individual needs. As a dedicated professional I fully\\n understand the importance of the HR department to any organization, and therefore\\n aim to make any office I work in as effective and efficient as possible. I would like to\\n work for a friendly and exciting company that is looking for a HR Executive, who\\n can reflect his values.']"
      ]
     },
     "execution_count": 26,
     "metadata": {},
     "output_type": "execute_result"
    }
   ],
   "source": [
    "profile_description"
   ]
  },
  {
   "cell_type": "code",
   "execution_count": 34,
   "id": "d66742e5-7546-4a63-9543-4178581e0012",
   "metadata": {},
   "outputs": [
    {
     "name": "stdout",
     "output_type": "stream",
     "text": [
      "Sections: [' Responsible for the statutory compliances, recruitment, induction, exit formalities of\\n the employees, providing full administrative support to the HR Managers and Officers.\\n\\n Job Responsibilities:\\n Responsible for Employee Recruitment Process.\\n Handling Documentation process of the employees.\\n Handling Joining formalities.\\n Carrying out reference checks on prospective employees.\\n Acting as the first point of contact for anyone enquiring about avacancy.\\n Maintain the records of employees\\n Track the attendance of the employees\\n Preparing Salary, Bonus, leave record, arrears and overtime of employees.\\n ESIC & EPF registration for new employees, Updating KYC for employees.\\n Preparing PF & ESIC Challan on excel as well as online.\\n Preparing full & final settlement of employees.\\n Letter drafting & Letter reply for interaction with the clients\\n Helping in tender submission (online & offline) and maintaining tender related\\n documents.', \" Letter drafting & Letter reply.\\n Online ticket booking (for staff's travelling) .\\n ESIC & EPF registration for new employees.\\n Updating EPF (KYC) for employees.\\n Preparing quotations on excel, Preparing presentation\\n Helping in tender submission (online & offline) and maintaining tender related\\n documents.\", ' Letter drafting & Letter reply.\\n Filling & maintaining database of Admin Dept.\\n Salary preparation on NIC software for employees.\\n Timely submission of telephone and electricity bills.\\n Budgeting for students camps.\\n Applying budget for office expenses and maintaining the same.\\n Maintaining In and Out letters record\\n Maintaining office stationary, postage stamps & office expense\\n Preparation medical bills of employees for reimbursement.', ' I am a competent and organized individual who is able to work as part of a team or\\n individual and manage several priorities. I have a positive attitude, strong work\\n ethic, and a keen desire to learn and grow within a firm. I always treat people with\\n respect and according to their individual needs. As a dedicated professional I fully\\n understand the importance of the HR department to any organization, and therefore\\n aim to make any office I work in as effective and efficient as possible. I would like to\\n work for a friendly and exciting company that is looking for a HR Executive, who\\n can reflect his values.']\n",
      "Skills: ['Client Relations Management', 'Employee Relations', 'Record Keeping', 'Contract document generation', 'Business Administration', 'Answering queries', 'MS- Office', 'Photoshop', 'Internet Savvy', 'Creative Problem Solver', 'Note taking', 'Decision making', 'Fast Learning', 'Hard Working', 'Leadership', 'Attention to detail', 'Co- ordination', 'Self- Motivated']\n",
      "Cosine Similarity Scores: tensor([[0.4541, 0.5008, 0.3681, 0.4140, 0.4726, 0.3375, 0.3115, 0.2111, 0.2663,\n",
      "         0.2440, 0.2952, 0.2613, 0.1987, 0.3433, 0.3127, 0.3082, 0.2909, 0.2559],\n",
      "        [0.5470, 0.5035, 0.4935, 0.6079, 0.5889, 0.5081, 0.5223, 0.3723, 0.3899,\n",
      "         0.4245, 0.4892, 0.4141, 0.3640, 0.4014, 0.4341, 0.3950, 0.4334, 0.3771],\n",
      "        [0.4831, 0.4423, 0.5431, 0.4976, 0.6107, 0.4297, 0.4537, 0.2921, 0.3138,\n",
      "         0.3218, 0.4741, 0.3593, 0.2834, 0.3761, 0.3388, 0.3655, 0.3279, 0.3120],\n",
      "        [0.3393, 0.4143, 0.2880, 0.2498, 0.3886, 0.2838, 0.2666, 0.2192, 0.2560,\n",
      "         0.3185, 0.2625, 0.3062, 0.2566, 0.4993, 0.4457, 0.3867, 0.2970, 0.4320]])\n"
     ]
    }
   ],
   "source": [
    "from sentence_transformers import SentenceTransformer, util\n",
    "\n",
    "# Load the model\n",
    "model = SentenceTransformer(\"Qwen/Qwen3-Embedding-0.6B\")\n",
    "\n",
    "sections = []\n",
    "\n",
    "for exp in parsed_data.get('work_experiences', []):\n",
    "    work_desc = exp.get('work_description')\n",
    "    if isinstance(work_desc, list):\n",
    "        work_desc = \" \".join(work_desc)\n",
    "    if work_desc and work_desc.strip():\n",
    "        sections.append(work_desc)\n",
    "        \n",
    "for desc in [parsed_data['primary_information'].get('profile_description', '')]:\n",
    "    if desc and desc.strip():\n",
    "        sections.append(desc)\n",
    "\n",
    "Skills = []\n",
    "\n",
    "for skill in parsed_data.get('skills', {}).get('hard_skills', []):\n",
    "    Skills.append(skill.get('parsed_value'))\n",
    "\n",
    "for skill in parsed_data.get('skills', {}).get('soft_skills', []):\n",
    "    Skills.append(skill.get('parsed_value'))\n",
    "    \n",
    "work_embeddings = model.encode(sections, convert_to_tensor=True)   \n",
    "skill_embeddings = model.encode(Skills, convert_to_tensor=True)  \n",
    "\n",
    "\n",
    "similarity = util.cos_sim(work_embeddings, skill_embeddings)\n",
    "\n",
    "\n",
    "print(\"Sections:\", sections)\n",
    "print(\"Skills:\", Skills)\n",
    "print(\"Cosine Similarity Scores:\", similarity)"
   ]
  },
  {
   "cell_type": "code",
   "execution_count": 35,
   "id": "6b2eb43b-09d4-44e0-8212-e919c8ad9a94",
   "metadata": {},
   "outputs": [
    {
     "name": "stdout",
     "output_type": "stream",
     "text": [
      "['w_1', 'w_2', 'w_3', 'w_4']\n"
     ]
    }
   ],
   "source": [
    "import pandas as pd\n",
    "work_labels = [f'w_{i+1}' for i in range(len(sections))]\n",
    "print(work_labels)"
   ]
  },
  {
   "cell_type": "code",
   "execution_count": 36,
   "id": "2c4fd7eb-2b23-414a-9577-2f54ddce9b81",
   "metadata": {
    "scrolled": true
   },
   "outputs": [
    {
     "data": {
      "text/html": [
       "<div>\n",
       "<style scoped>\n",
       "    .dataframe tbody tr th:only-of-type {\n",
       "        vertical-align: middle;\n",
       "    }\n",
       "\n",
       "    .dataframe tbody tr th {\n",
       "        vertical-align: top;\n",
       "    }\n",
       "\n",
       "    .dataframe thead th {\n",
       "        text-align: right;\n",
       "    }\n",
       "</style>\n",
       "<table border=\"1\" class=\"dataframe\">\n",
       "  <thead>\n",
       "    <tr style=\"text-align: right;\">\n",
       "      <th></th>\n",
       "      <th>Client Relations Management</th>\n",
       "      <th>Employee Relations</th>\n",
       "      <th>Record Keeping</th>\n",
       "      <th>Contract document generation</th>\n",
       "      <th>Business Administration</th>\n",
       "      <th>Answering queries</th>\n",
       "      <th>MS- Office</th>\n",
       "      <th>Photoshop</th>\n",
       "      <th>Internet Savvy</th>\n",
       "      <th>Creative Problem Solver</th>\n",
       "      <th>Note taking</th>\n",
       "      <th>Decision making</th>\n",
       "      <th>Fast Learning</th>\n",
       "      <th>Hard Working</th>\n",
       "      <th>Leadership</th>\n",
       "      <th>Attention to detail</th>\n",
       "      <th>Co- ordination</th>\n",
       "      <th>Self- Motivated</th>\n",
       "    </tr>\n",
       "  </thead>\n",
       "  <tbody>\n",
       "    <tr>\n",
       "      <th>w_1</th>\n",
       "      <td>0.454083</td>\n",
       "      <td>0.500849</td>\n",
       "      <td>0.368065</td>\n",
       "      <td>0.414009</td>\n",
       "      <td>0.472573</td>\n",
       "      <td>0.337546</td>\n",
       "      <td>0.311455</td>\n",
       "      <td>0.211082</td>\n",
       "      <td>0.266317</td>\n",
       "      <td>0.243950</td>\n",
       "      <td>0.295247</td>\n",
       "      <td>0.261277</td>\n",
       "      <td>0.198677</td>\n",
       "      <td>0.343336</td>\n",
       "      <td>0.312651</td>\n",
       "      <td>0.308154</td>\n",
       "      <td>0.290912</td>\n",
       "      <td>0.255868</td>\n",
       "    </tr>\n",
       "    <tr>\n",
       "      <th>w_2</th>\n",
       "      <td>0.546992</td>\n",
       "      <td>0.503486</td>\n",
       "      <td>0.493454</td>\n",
       "      <td>0.607939</td>\n",
       "      <td>0.588912</td>\n",
       "      <td>0.508109</td>\n",
       "      <td>0.522315</td>\n",
       "      <td>0.372273</td>\n",
       "      <td>0.389899</td>\n",
       "      <td>0.424521</td>\n",
       "      <td>0.489172</td>\n",
       "      <td>0.414095</td>\n",
       "      <td>0.363978</td>\n",
       "      <td>0.401395</td>\n",
       "      <td>0.434095</td>\n",
       "      <td>0.395035</td>\n",
       "      <td>0.433428</td>\n",
       "      <td>0.377146</td>\n",
       "    </tr>\n",
       "    <tr>\n",
       "      <th>w_3</th>\n",
       "      <td>0.483087</td>\n",
       "      <td>0.442281</td>\n",
       "      <td>0.543080</td>\n",
       "      <td>0.497585</td>\n",
       "      <td>0.610743</td>\n",
       "      <td>0.429689</td>\n",
       "      <td>0.453712</td>\n",
       "      <td>0.292065</td>\n",
       "      <td>0.313752</td>\n",
       "      <td>0.321810</td>\n",
       "      <td>0.474070</td>\n",
       "      <td>0.359308</td>\n",
       "      <td>0.283394</td>\n",
       "      <td>0.376094</td>\n",
       "      <td>0.338818</td>\n",
       "      <td>0.365474</td>\n",
       "      <td>0.327851</td>\n",
       "      <td>0.311992</td>\n",
       "    </tr>\n",
       "    <tr>\n",
       "      <th>w_4</th>\n",
       "      <td>0.339336</td>\n",
       "      <td>0.414252</td>\n",
       "      <td>0.288042</td>\n",
       "      <td>0.249849</td>\n",
       "      <td>0.388644</td>\n",
       "      <td>0.283838</td>\n",
       "      <td>0.266600</td>\n",
       "      <td>0.219224</td>\n",
       "      <td>0.255979</td>\n",
       "      <td>0.318528</td>\n",
       "      <td>0.262469</td>\n",
       "      <td>0.306164</td>\n",
       "      <td>0.256632</td>\n",
       "      <td>0.499271</td>\n",
       "      <td>0.445676</td>\n",
       "      <td>0.386677</td>\n",
       "      <td>0.297037</td>\n",
       "      <td>0.432013</td>\n",
       "    </tr>\n",
       "  </tbody>\n",
       "</table>\n",
       "</div>"
      ],
      "text/plain": [
       "     Client Relations Management  Employee Relations  Record Keeping  \\\n",
       "w_1                     0.454083            0.500849        0.368065   \n",
       "w_2                     0.546992            0.503486        0.493454   \n",
       "w_3                     0.483087            0.442281        0.543080   \n",
       "w_4                     0.339336            0.414252        0.288042   \n",
       "\n",
       "     Contract document generation  Business Administration  Answering queries  \\\n",
       "w_1                      0.414009                 0.472573           0.337546   \n",
       "w_2                      0.607939                 0.588912           0.508109   \n",
       "w_3                      0.497585                 0.610743           0.429689   \n",
       "w_4                      0.249849                 0.388644           0.283838   \n",
       "\n",
       "     MS- Office  Photoshop  Internet Savvy  Creative Problem Solver  \\\n",
       "w_1    0.311455   0.211082        0.266317                 0.243950   \n",
       "w_2    0.522315   0.372273        0.389899                 0.424521   \n",
       "w_3    0.453712   0.292065        0.313752                 0.321810   \n",
       "w_4    0.266600   0.219224        0.255979                 0.318528   \n",
       "\n",
       "     Note taking  Decision making  Fast Learning  Hard Working  Leadership  \\\n",
       "w_1     0.295247         0.261277       0.198677      0.343336    0.312651   \n",
       "w_2     0.489172         0.414095       0.363978      0.401395    0.434095   \n",
       "w_3     0.474070         0.359308       0.283394      0.376094    0.338818   \n",
       "w_4     0.262469         0.306164       0.256632      0.499271    0.445676   \n",
       "\n",
       "     Attention to detail  Co- ordination  Self- Motivated  \n",
       "w_1             0.308154        0.290912         0.255868  \n",
       "w_2             0.395035        0.433428         0.377146  \n",
       "w_3             0.365474        0.327851         0.311992  \n",
       "w_4             0.386677        0.297037         0.432013  "
      ]
     },
     "execution_count": 36,
     "metadata": {},
     "output_type": "execute_result"
    }
   ],
   "source": [
    "df = pd.DataFrame(similarity, index=work_labels, columns=Skills)\n",
    "df"
   ]
  },
  {
   "cell_type": "code",
   "execution_count": 40,
   "id": "2a4a511e-0a41-47e8-9634-1674381fd9c1",
   "metadata": {},
   "outputs": [],
   "source": [
    "df = pd.DataFrame(similarity, index=work_labels, columns=Skills)\n",
    "average = df.mean()"
   ]
  },
  {
   "cell_type": "code",
   "execution_count": 41,
   "id": "055974b4-f1ff-46c9-9053-f9826423e18b",
   "metadata": {},
   "outputs": [
    {
     "data": {
      "text/plain": [
       "Client Relations Management     0.455875\n",
       "Employee Relations              0.465217\n",
       "Record Keeping                  0.423160\n",
       "Contract document generation    0.442345\n",
       "Business Administration         0.515218\n",
       "Answering queries               0.389796\n",
       "MS- Office                      0.388520\n",
       "Photoshop                       0.273661\n",
       "Internet Savvy                  0.306487\n",
       "Creative Problem Solver         0.327202\n",
       "Note taking                     0.380240\n",
       "Decision making                 0.335211\n",
       "Fast Learning                   0.275670\n",
       "Hard Working                    0.405024\n",
       "Leadership                      0.382810\n",
       "Attention to detail             0.363835\n",
       "Co- ordination                  0.337307\n",
       "Self- Motivated                 0.344255\n",
       "dtype: float32"
      ]
     },
     "execution_count": 41,
     "metadata": {},
     "output_type": "execute_result"
    }
   ],
   "source": [
    "average"
   ]
  },
  {
   "cell_type": "code",
   "execution_count": null,
   "id": "0c40ec09-685f-4112-8153-262d77913f29",
   "metadata": {},
   "outputs": [],
   "source": []
  }
 ],
 "metadata": {
  "kernelspec": {
   "display_name": "Python 3 (ipykernel)",
   "language": "python",
   "name": "python3"
  },
  "language_info": {
   "codemirror_mode": {
    "name": "ipython",
    "version": 3
   },
   "file_extension": ".py",
   "mimetype": "text/x-python",
   "name": "python",
   "nbconvert_exporter": "python",
   "pygments_lexer": "ipython3",
   "version": "3.12.4"
  }
 },
 "nbformat": 4,
 "nbformat_minor": 5
}
