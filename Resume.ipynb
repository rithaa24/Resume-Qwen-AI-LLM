{
 "cells": [
  {
   "cell_type": "code",
   "execution_count": 12,
   "id": "5cee701d-fd4f-4caa-a4eb-c276e2d8ebd0",
   "metadata": {
    "scrolled": true
   },
   "outputs": [],
   "source": [
    "import requests\n",
    "\n",
    "url = \"http://crmgpu6-10042:37991/image/api/resume/parse\"\n",
    "\n",
    "payload = {}\n",
    "files = [\n",
    "    ('resume', ('HR2.pdf', open(\"C:/Users/shari/Desktop/Zoho/HR/HR2.pdf\", 'rb'), 'application/pdf'))\n",
    "]\n",
    "headers = {}\n",
    "\n",
    "response = requests.request(\"POST\", url, headers=headers, data=payload, files=files)"
   ]
  },
  {
   "cell_type": "code",
   "execution_count": 2,
   "id": "c2534d30-8104-41be-b968-25cfeb6ad552",
   "metadata": {},
   "outputs": [],
   "source": [
    "data = response.json()"
   ]
  },
  {
   "cell_type": "code",
   "execution_count": 3,
   "id": "4dabf621-ca67-4d78-bd76-4258ce62286f",
   "metadata": {},
   "outputs": [],
   "source": [
    "parsed_data = data['parsed_json']"
   ]
  },
  {
   "cell_type": "code",
   "execution_count": 4,
   "id": "d54bc091-6aab-4e7a-9dfb-0e4e7e80c115",
   "metadata": {},
   "outputs": [
    {
     "name": "stdout",
     "output_type": "stream",
     "text": [
      "WARNING:tensorflow:From C:\\Users\\shari\\AppData\\Roaming\\Python\\Python312\\site-packages\\tf_keras\\src\\losses.py:2976: The name tf.losses.sparse_softmax_cross_entropy is deprecated. Please use tf.compat.v1.losses.sparse_softmax_cross_entropy instead.\n",
      "\n"
     ]
    }
   ],
   "source": [
    "from sentence_transformers import SentenceTransformer, util\n",
    "\n",
    "# Load the model\n",
    "model = SentenceTransformer(\"Qwen/Qwen3-Embedding-0.6B\")\n",
    "\n",
    "sections = []\n",
    "\n",
    "for exp in parsed_data.get('work_experiences', []):\n",
    "    work_desc = exp.get('work_description')\n",
    "    if isinstance(work_desc, list):\n",
    "        work_desc = \" \".join(work_desc)\n",
    "    if work_desc and work_desc.strip():\n",
    "        sections.append(work_desc)\n",
    "for desc in [parsed_data['primary_information'].get('profile_description', '')]:\n",
    "    if desc and desc.strip():\n",
    "        sections.append(desc)\n",
    "for ach_desc in parsed_data.get(\"achievements\", []):\n",
    "    if ach_desc:  \n",
    "        sections.append(ach_desc)\n",
    "for section in [\"certifications\", \"projects\"]:\n",
    "    if parsed_data.get(section):\n",
    "        sections.extend(parsed_data[section])  \n",
    "    else:\n",
    "        sections.append(f\"No {section} available in the resume\")\n",
    "Skills = []\n",
    "\n",
    "for skill in parsed_data.get('skills', {}).get('hard_skills', []):\n",
    "    Skills.append(skill.get('parsed_value'))\n",
    "\n",
    "for skill in parsed_data.get('skills', {}).get('soft_skills', []):\n",
    "    Skills.append(skill.get('parsed_value'))"
   ]
  },
  {
   "cell_type": "code",
   "execution_count": 5,
   "id": "a1740c81-e355-42df-9893-92460b173fa9",
   "metadata": {},
   "outputs": [
    {
     "name": "stdout",
     "output_type": "stream",
     "text": [
      "[\" Recruitment, hiring and employee relations in departments\\n Sourcing CVs from various channels such as referencing, company's own database, Job Portals\\n i.e. Monster, Naukri, and networking tools such as LinkedIn.\\n Planning and structuring of job advertisements on job portals.\\n Scheduling interview, fallow up to get feedback, negotiating salary.\\n Completion and coordination for employment of application formality.\\n Collecting necessary documents for hiring process.\\n Assisted payroll administrator with completing bi- monthly payroll.\\n Input new employee Information Into the system.\\n Prepared detail reports for management.\\n\\n Prepare MIS joining new employees left in excel sheet\\n Prepare MIS employee (Attendance, leave &OT records)\", ' To associate myself with the organization, as an executive and be a target- oriented member,\\n achieve organization mission and objective and help the organization in decision- making', 'No certifications available in the resume', {'title': 'Employee welfare', 'duration_of_project': {'parsed_value': '2Months'}, 'project_description': ' The WELFARE manager is responsible for maintaining activities, responsible for organizing social activities\\n for the company employees\\n Role and Responsibilities: -\\n Help management to help shape Labor policies and enlighten workers about them\\n To advise on regulating leave of workers and explain them leave provisions and on matters\\n pertaining training, transfer or promotion et\\n To encourage formation workers and production committees.\\n To settle grievances of workers.'}]\n"
     ]
    }
   ],
   "source": [
    "work_embeddings = model.encode(sections, convert_to_tensor=True)   \n",
    "skill_embeddings = model.encode(Skills, convert_to_tensor=True)  \n",
    "\n",
    "\n",
    "similarity = util.cos_sim(work_embeddings, skill_embeddings)\n",
    "print(sections)"
   ]
  },
  {
   "cell_type": "code",
   "execution_count": 6,
   "id": "9cf571a7-6f44-44b9-bd73-02eb3a9e526a",
   "metadata": {},
   "outputs": [
    {
     "name": "stdout",
     "output_type": "stream",
     "text": [
      "['w_1', 'w_2', 'w_3', 'w_4']\n"
     ]
    }
   ],
   "source": [
    "import pandas as pd\n",
    "work_labels = [f'w_{i+1}' for i in range(len(sections))]\n",
    "print(work_labels)"
   ]
  },
  {
   "cell_type": "code",
   "execution_count": 7,
   "id": "d87a3bc9-c05a-42f3-9e09-1e05d5624562",
   "metadata": {},
   "outputs": [
    {
     "data": {
      "text/html": [
       "<div>\n",
       "<style scoped>\n",
       "    .dataframe tbody tr th:only-of-type {\n",
       "        vertical-align: middle;\n",
       "    }\n",
       "\n",
       "    .dataframe tbody tr th {\n",
       "        vertical-align: top;\n",
       "    }\n",
       "\n",
       "    .dataframe thead th {\n",
       "        text-align: right;\n",
       "    }\n",
       "</style>\n",
       "<table border=\"1\" class=\"dataframe\">\n",
       "  <thead>\n",
       "    <tr style=\"text-align: right;\">\n",
       "      <th></th>\n",
       "      <th>MS Office</th>\n",
       "      <th>Excel</th>\n",
       "      <th>Word</th>\n",
       "      <th>Outlook</th>\n",
       "      <th>Power Point</th>\n",
       "      <th>Windows 7</th>\n",
       "      <th>windows 8</th>\n",
       "      <th>windows9 and latest version</th>\n",
       "      <th>Effective Communication Skills</th>\n",
       "      <th>Excellent Interpersonal Skills</th>\n",
       "      <th>...</th>\n",
       "      <th>Motivation</th>\n",
       "      <th>Professionalism</th>\n",
       "      <th>Hardworking</th>\n",
       "      <th>committed to excellence</th>\n",
       "      <th>Quick learner</th>\n",
       "      <th>Creating a positive work environment</th>\n",
       "      <th>Self- motivated</th>\n",
       "      <th>honesty</th>\n",
       "      <th>loyalty</th>\n",
       "      <th>punctuality</th>\n",
       "    </tr>\n",
       "  </thead>\n",
       "  <tbody>\n",
       "    <tr>\n",
       "      <th>w_1</th>\n",
       "      <td>0.369505</td>\n",
       "      <td>0.343590</td>\n",
       "      <td>0.269928</td>\n",
       "      <td>0.326498</td>\n",
       "      <td>0.308439</td>\n",
       "      <td>0.226020</td>\n",
       "      <td>0.227848</td>\n",
       "      <td>0.216978</td>\n",
       "      <td>0.340173</td>\n",
       "      <td>0.341544</td>\n",
       "      <td>...</td>\n",
       "      <td>0.322577</td>\n",
       "      <td>0.308143</td>\n",
       "      <td>0.339058</td>\n",
       "      <td>0.271045</td>\n",
       "      <td>0.259775</td>\n",
       "      <td>0.411403</td>\n",
       "      <td>0.248118</td>\n",
       "      <td>0.261952</td>\n",
       "      <td>0.261312</td>\n",
       "      <td>0.271960</td>\n",
       "    </tr>\n",
       "    <tr>\n",
       "      <th>w_2</th>\n",
       "      <td>0.421794</td>\n",
       "      <td>0.390655</td>\n",
       "      <td>0.413454</td>\n",
       "      <td>0.455721</td>\n",
       "      <td>0.377497</td>\n",
       "      <td>0.364541</td>\n",
       "      <td>0.351680</td>\n",
       "      <td>0.325779</td>\n",
       "      <td>0.435912</td>\n",
       "      <td>0.468770</td>\n",
       "      <td>...</td>\n",
       "      <td>0.556330</td>\n",
       "      <td>0.475692</td>\n",
       "      <td>0.432522</td>\n",
       "      <td>0.563285</td>\n",
       "      <td>0.365842</td>\n",
       "      <td>0.522139</td>\n",
       "      <td>0.548276</td>\n",
       "      <td>0.426608</td>\n",
       "      <td>0.521892</td>\n",
       "      <td>0.441359</td>\n",
       "    </tr>\n",
       "    <tr>\n",
       "      <th>w_3</th>\n",
       "      <td>0.465666</td>\n",
       "      <td>0.425422</td>\n",
       "      <td>0.472463</td>\n",
       "      <td>0.408873</td>\n",
       "      <td>0.462695</td>\n",
       "      <td>0.442670</td>\n",
       "      <td>0.440028</td>\n",
       "      <td>0.456610</td>\n",
       "      <td>0.463957</td>\n",
       "      <td>0.501736</td>\n",
       "      <td>...</td>\n",
       "      <td>0.442330</td>\n",
       "      <td>0.511292</td>\n",
       "      <td>0.452072</td>\n",
       "      <td>0.501550</td>\n",
       "      <td>0.480942</td>\n",
       "      <td>0.466234</td>\n",
       "      <td>0.472973</td>\n",
       "      <td>0.420918</td>\n",
       "      <td>0.449279</td>\n",
       "      <td>0.424598</td>\n",
       "    </tr>\n",
       "    <tr>\n",
       "      <th>w_4</th>\n",
       "      <td>0.358537</td>\n",
       "      <td>0.356990</td>\n",
       "      <td>0.347298</td>\n",
       "      <td>0.326997</td>\n",
       "      <td>0.341154</td>\n",
       "      <td>0.314366</td>\n",
       "      <td>0.320602</td>\n",
       "      <td>0.281020</td>\n",
       "      <td>0.376648</td>\n",
       "      <td>0.397253</td>\n",
       "      <td>...</td>\n",
       "      <td>0.412667</td>\n",
       "      <td>0.392211</td>\n",
       "      <td>0.422437</td>\n",
       "      <td>0.403050</td>\n",
       "      <td>0.335919</td>\n",
       "      <td>0.499148</td>\n",
       "      <td>0.388306</td>\n",
       "      <td>0.357252</td>\n",
       "      <td>0.408977</td>\n",
       "      <td>0.372178</td>\n",
       "    </tr>\n",
       "  </tbody>\n",
       "</table>\n",
       "<p>4 rows × 21 columns</p>\n",
       "</div>"
      ],
      "text/plain": [
       "     MS Office     Excel      Word   Outlook  Power Point  Windows 7  \\\n",
       "w_1   0.369505  0.343590  0.269928  0.326498     0.308439   0.226020   \n",
       "w_2   0.421794  0.390655  0.413454  0.455721     0.377497   0.364541   \n",
       "w_3   0.465666  0.425422  0.472463  0.408873     0.462695   0.442670   \n",
       "w_4   0.358537  0.356990  0.347298  0.326997     0.341154   0.314366   \n",
       "\n",
       "     windows 8  windows9 and latest version  Effective Communication Skills  \\\n",
       "w_1   0.227848                     0.216978                        0.340173   \n",
       "w_2   0.351680                     0.325779                        0.435912   \n",
       "w_3   0.440028                     0.456610                        0.463957   \n",
       "w_4   0.320602                     0.281020                        0.376648   \n",
       "\n",
       "     Excellent Interpersonal Skills  ...  Motivation  Professionalism  \\\n",
       "w_1                        0.341544  ...    0.322577         0.308143   \n",
       "w_2                        0.468770  ...    0.556330         0.475692   \n",
       "w_3                        0.501736  ...    0.442330         0.511292   \n",
       "w_4                        0.397253  ...    0.412667         0.392211   \n",
       "\n",
       "     Hardworking  committed to excellence  Quick learner  \\\n",
       "w_1     0.339058                 0.271045       0.259775   \n",
       "w_2     0.432522                 0.563285       0.365842   \n",
       "w_3     0.452072                 0.501550       0.480942   \n",
       "w_4     0.422437                 0.403050       0.335919   \n",
       "\n",
       "     Creating a positive work environment  Self- motivated   honesty  \\\n",
       "w_1                              0.411403         0.248118  0.261952   \n",
       "w_2                              0.522139         0.548276  0.426608   \n",
       "w_3                              0.466234         0.472973  0.420918   \n",
       "w_4                              0.499148         0.388306  0.357252   \n",
       "\n",
       "      loyalty  punctuality  \n",
       "w_1  0.261312     0.271960  \n",
       "w_2  0.521892     0.441359  \n",
       "w_3  0.449279     0.424598  \n",
       "w_4  0.408977     0.372178  \n",
       "\n",
       "[4 rows x 21 columns]"
      ]
     },
     "execution_count": 7,
     "metadata": {},
     "output_type": "execute_result"
    }
   ],
   "source": [
    "df = pd.DataFrame(similarity, index=work_labels, columns=Skills)\n",
    "df"
   ]
  },
  {
   "cell_type": "code",
   "execution_count": 10,
   "id": "155981fd-ae3b-4216-9183-f15f7f2ce306",
   "metadata": {},
   "outputs": [],
   "source": [
    "df = pd.DataFrame(similarity, index=work_labels, columns=Skills)\n",
    "average = df.mean()"
   ]
  },
  {
   "cell_type": "code",
   "execution_count": 11,
   "id": "ffeddd6a-27da-4982-a5f0-664e9ddab6c3",
   "metadata": {},
   "outputs": [
    {
     "data": {
      "text/plain": [
       "Creating a positive work environment    0.474731\n",
       "committed to excellence                 0.434733\n",
       "Motivation                              0.433476\n",
       "Excellent Interpersonal Skills          0.427326\n",
       "Professionalism                         0.421835\n",
       "Self- motivated                         0.414418\n",
       "Hardworking                             0.411522\n",
       "loyalty                                 0.410365\n",
       "Effective Communication Skills          0.404173\n",
       "MS Office                               0.403875\n",
       "Outlook                                 0.379522\n",
       "Excel                                   0.379164\n",
       "punctuality                             0.377524\n",
       "Word                                    0.375786\n",
       "Power Point                             0.372446\n",
       "Ability to deal with pressure           0.371203\n",
       "honesty                                 0.366682\n",
       "Quick learner                           0.360619\n",
       "Windows 7                               0.336899\n",
       "windows 8                               0.335040\n",
       "windows9 and latest version             0.320097\n",
       "dtype: float32"
      ]
     },
     "execution_count": 11,
     "metadata": {},
     "output_type": "execute_result"
    }
   ],
   "source": [
    "sorted_skills = average.sort_values(ascending=False)\n",
    "sorted_skills"
   ]
  },
  {
   "cell_type": "code",
   "execution_count": null,
   "id": "50bdd29e-8698-49df-a3d4-9260c3f8ebc7",
   "metadata": {},
   "outputs": [],
   "source": []
  }
 ],
 "metadata": {
  "kernelspec": {
   "display_name": "Python 3 (ipykernel)",
   "language": "python",
   "name": "python3"
  },
  "language_info": {
   "codemirror_mode": {
    "name": "ipython",
    "version": 3
   },
   "file_extension": ".py",
   "mimetype": "text/x-python",
   "name": "python",
   "nbconvert_exporter": "python",
   "pygments_lexer": "ipython3",
   "version": "3.12.4"
  }
 },
 "nbformat": 4,
 "nbformat_minor": 5
}
